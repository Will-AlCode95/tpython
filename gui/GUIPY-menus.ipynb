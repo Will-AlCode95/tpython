{
 "cells": [
  {
   "cell_type": "markdown",
   "id": "4199ac07",
   "metadata": {},
   "source": [
    "# Lição 6: Barra de Menus"
   ]
  },
  {
   "cell_type": "markdown",
   "id": "5b23c3d8",
   "metadata": {},
   "source": [
    "Nesta lição, vamos aprender como criar e configurar menus em uma aplicação Tkinter. Exploraremos como adicionar itens como \"Arquivo\", \"Ajuda\" e \"Cadastro\" à barra de menus, permitindo ao usuário acessar funcionalidades importantes da aplicação de maneira intuitiva."
   ]
  },
  {
   "cell_type": "code",
   "execution_count": 10,
   "id": "90cc8dc8",
   "metadata": {},
   "outputs": [],
   "source": [
    "import tkinter as tk\n",
    "from tkinter import messagebox\n",
    "\n",
    "# Funções de exemplo para os itens de menu\n",
    "def novo_arquivo():\n",
    "    messagebox.showinfo(\"Novo\", \"Criar novo arquivo\")\n",
    "\n",
    "def abrir_arquivo():\n",
    "    messagebox.showinfo(\"Abrir\", \"Abrir arquivo existente\")\n",
    "\n",
    "def menu_sobre():\n",
    "    messagebox.showinfo(\"Sobre\", \"Exemplo de uso de menus com Tkinter.\")\n",
    "\n",
    "def sair():\n",
    "    janela.destroy()\n",
    "\n",
    "# Criando a janela principal\n",
    "janela = tk.Tk()\n",
    "janela.title(\"Exemplo de Menus\")\n",
    "janela.geometry(\"320x200+200+100\")\n",
    "# Criando a barra de menu\n",
    "barra_menu = tk.Menu(janela)\n",
    "janela.config(menu=barra_menu)\n",
    "\n",
    "# Criando o menu \"Arquivo\" com opções\n",
    "menu_arquivo = tk.Menu(barra_menu, tearoff=0)\n",
    "menu_arquivo.add_command(label=\"Novo\", command=novo_arquivo)\n",
    "menu_arquivo.add_command(label=\"Abrir\", command=abrir_arquivo)\n",
    "menu_arquivo.add_separator()  # separador entre itens\n",
    "menu_arquivo.add_command(label=\"Sair\", command=sair)\n",
    "\n",
    "barra_menu.add_cascade(label=\"Arquivo\", menu=menu_arquivo)\n",
    "\n",
    "# Criando o menu \"Ajuda\" com uma opção \"Sobre\"\n",
    "menu_ajuda = tk.Menu(barra_menu, tearoff=False)\n",
    "menu_ajuda.add_command(label=\"Sobre\", command=menu_sobre)\n",
    "\n",
    "barra_menu.add_cascade(label=\"Ajuda\", menu=menu_ajuda)\n",
    "\n",
    "# Exibindo uma mensagem simples na janela principal\n",
    "rotulo = tk.Label(janela, text=\"Utilize o menu para interagir com a aplicação.\", padx=10, pady=10)\n",
    "rotulo.pack()\n",
    "\n",
    "# Iniciando o loop principal da aplicação\n",
    "janela.mainloop()"
   ]
  }
 ],
 "metadata": {
  "language_info": {
   "name": "python"
  }
 },
 "nbformat": 4,
 "nbformat_minor": 5
}
