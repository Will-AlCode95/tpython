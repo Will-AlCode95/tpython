{
 "cells": [
  {
   "cell_type": "markdown",
   "id": "d22d4d41",
   "metadata": {
    "vscode": {
     "languageId": "xml"
    }
   },
   "source": [
    "# Lição 7: Uso de Dialogs com Tkinter\n",
    "\n",
    "Nesta lição, você aprenderá a utilizar dialogs para solicitar dados de login (nome de usuário e senha) utilizando o módulo simpledialog. As informações serão solicitadas em dialogs, e o resultado será exibido com messagebox.\n"
   ]
  },
  {
   "cell_type": "code",
   "execution_count": null,
   "id": "c8a78046",
   "metadata": {},
   "outputs": [],
   "source": [
    "import tkinter as tk\n",
    "from tkinter import simpledialog, messagebox\n",
    "\n",
    "def solicitar_login():\n",
    "    # Solicita o nome de usuário\n",
    "    username = simpledialog.askstring(\"Login\", \"Informe o nome de usuário:\")\n",
    "    if username is None:\n",
    "        return  # Usuário cancelou\n",
    "    \n",
    "    # Solicita a senha, com os caracteres ocultos\n",
    "    password = simpledialog.askstring(\"Login\", \"Informe a senha:\", show=\"*\")\n",
    "    if password is None:\n",
    "        return  # Usuário cancelou\n",
    "    \n",
    "    # Exibe os dados (para demonstração - só para testes. Não use em produção!)\n",
    "    messagebox.showinfo(\"Dados de Login\", f\"Usuário: {username}\\nSenha: {'*' * len(password)}\")\n",
    "\n",
    "# Criando a janela principal\n",
    "janela = tk.Tk()\n",
    "janela.title(\"Exemplo de Dialogs de Login\")\n",
    "janela.geometry(\"320x200+250+150\")\n",
    "\n",
    "# Botão para acionar o dialog de login\n",
    "botao_login = tk.Button(janela, text=\"Login\", command=solicitar_login)\n",
    "botao_login.pack(pady=20)\n",
    "\n",
    "\n",
    "janela.mainloop()\n"
   ]
  },
  {
   "cell_type": "markdown",
   "id": "78277091",
   "metadata": {},
   "source": [
    "## Outras Funcionalidades do Módulo simpledialog\n",
    "\n",
    "Além de askstring, simpledialog oferece outras funções úteis, como:\n",
    "- askinteger: Solicita uma entrada inteira.\n",
    "- askfloat: Solicita uma entrada numérica com ponto flutuante.\n",
    "- Possibilidade de customizar dialogs através da criação de classes derivadas de simpledialog.Dialog, implementando métodos `body`, `validate` e `apply` para uma validação e interface personalizada."
   ]
  },
  {
   "cell_type": "markdown",
   "id": "18489469",
   "metadata": {},
   "source": [
    "### Exemplo: Dialog customizada de Login\n",
    "Para exibir os campos de usuário e senha na mesma dialog, podemos criar uma classe customizada que herda de `simpledialog.Dialog`. Essa abordagem permite definir uma interface com múltiplos campos de entrada em uma única janela."
   ]
  },
  {
   "cell_type": "code",
   "execution_count": null,
   "id": "763ecbee",
   "metadata": {},
   "outputs": [],
   "source": [
    "import tkinter as tk\n",
    "from tkinter import simpledialog, messagebox\n",
    "\n",
    "class LoginDialog(simpledialog.Dialog):\n",
    "    def body(self, master):\n",
    "        tk.Label(master, text=\"Usuário:\").grid(row=0, column=0, padx=5, pady=5)\n",
    "        tk.Label(master, text=\"Senha:\").grid(row=1, column=0, padx=5, pady=5)\n",
    "        self.entry_user = tk.Entry(master)\n",
    "        self.entry_user.grid(row=0, column=1, padx=5, pady=5)\n",
    "        self.entry_pass = tk.Entry(master, show=\"*\")\n",
    "        self.entry_pass.grid(row=1, column=1, padx=5, pady=5)\n",
    "        return self.entry_user\n",
    "\n",
    "    def apply(self):\n",
    "        self.user = self.entry_user.get()\n",
    "        self.password = self.entry_pass.get()\n"
   ]
  },
  {
   "cell_type": "markdown",
   "id": "89f1eb3d",
   "metadata": {},
   "source": [
    "Agora alteramos o código anterior da janela. Acresentamos uma função que abre a dialog customizada e um botão que chama essa função."
   ]
  },
  {
   "cell_type": "code",
   "execution_count": null,
   "id": "1d69a1b5",
   "metadata": {},
   "outputs": [],
   "source": [
    "import tkinter as tk\n",
    "from tkinter import simpledialog, messagebox\n",
    "\n",
    "def solicitar_login():\n",
    "    # Solicita o nome de usuário\n",
    "    username = simpledialog.askstring(\"Login\", \"Informe o nome de usuário:\")\n",
    "    if username is None:\n",
    "        return  # Usuário cancelou\n",
    "    \n",
    "    # Solicita a senha, com os caracteres ocultos\n",
    "    password = simpledialog.askstring(\"Login\", \"Informe a senha:\", show=\"*\")\n",
    "    if password is None:\n",
    "        return  # Usuário cancelou\n",
    "    \n",
    "    # Exibe os dados (para demonstração - só para testes! não faça isso em produção)\n",
    "    messagebox.showinfo(\"Dados de Login\", f\"Usuário: {username}\\nSenha: {'*' * len(password)}\")\n",
    "\n",
    "# Criando a janela principal\n",
    "janela = tk.Tk()\n",
    "janela.title(\"Exemplo de Dialogs de Login\")\n",
    "janela.geometry(\"320x200+250+150\")\n",
    "\n",
    "# Botão para acionar o dialog de login\n",
    "botao_login = tk.Button(janela, text=\"Login\", command=solicitar_login)\n",
    "botao_login.pack(pady=20)\n",
    "\n",
    "\"\"\"\n",
    "****************** Parte nova *****************\n",
    "Aqui acrescentamos:\n",
    "- uma função que abre a dialog customizada\n",
    "- um botão que chama essa função.\n",
    "\"\"\"\n",
    "\n",
    "# Função que abre a dialog customizada\n",
    "def solicitar_login_completo():\n",
    "    dialog = LoginDialog(janela, title=\"Login Completo\")\n",
    "    try:\n",
    "        user = dialog.user\n",
    "        password = dialog.password\n",
    "        messagebox.showinfo(\"Dados de Login\", f\"Usuário: {user}\\nSenha: {'*' * len(password)}\")\n",
    "    except AttributeError:\n",
    "        # Usuário cancelou a dialog\n",
    "        pass\n",
    "\n",
    "# Adicionando um botão para demonstrar o novo dialog\n",
    "botao_login_completo = tk.Button(janela, text=\"Login Combinado\", command=solicitar_login_completo)\n",
    "botao_login_completo.pack(pady=10)\n",
    "\n",
    "janela.mainloop()"
   ]
  },
  {
   "cell_type": "markdown",
   "id": "047ade31",
   "metadata": {},
   "source": [
    "## Uso do método validate em Dialog\n",
    "Neste exemplo, a classe DialogLoginValidado herda de simpledialog.Dialog e implementa o método `validate()` para garantir que o campo \"Usuário\" não seja vazio. Se o campo estiver vazio, a dialog exibe uma mensagem de alerta e continua aberta, permitindo que o usuário corrija a entrada."
   ]
  },
  {
   "cell_type": "code",
   "execution_count": null,
   "id": "b3d900eb",
   "metadata": {},
   "outputs": [],
   "source": [
    "class DialogLoginValidado(simpledialog.Dialog):\n",
    "    def body(self, master):\n",
    "        tk.Label(master, text=\"Usuário:\").grid(row=0, column=0, padx=5, pady=5)\n",
    "        self.entry_user = tk.Entry(master)\n",
    "        self.entry_user.grid(row=0, column=1, padx=5, pady=5)\n",
    "        return self.entry_user\n",
    "\n",
    "    def validate(self):\n",
    "        # Verifica se o usuário não está vazio\n",
    "        if not self.entry_user.get().strip():\n",
    "            messagebox.showwarning(\"Validação\", \"Usuário não pode ser vazio!\")\n",
    "            return False\n",
    "        return True\n",
    "\n",
    "    def apply(self):\n",
    "        self.user = self.entry_user.get()\n"
   ]
  },
  {
   "cell_type": "markdown",
   "id": "bf6f74d4",
   "metadata": {},
   "source": [
    "Código da janela acrescido de uma nova função que irá criar a nova dialog com validação."
   ]
  },
  {
   "cell_type": "code",
   "execution_count": null,
   "id": "d1599efa",
   "metadata": {},
   "outputs": [],
   "source": [
    "\n",
    "import tkinter as tk\n",
    "from tkinter import simpledialog, messagebox\n",
    "\n",
    "def solicitar_login():\n",
    "    # Solicita o nome de usuário\n",
    "    username = simpledialog.askstring(\"Login\", \"Informe o nome de usuário:\")\n",
    "    if username is None:\n",
    "        return  # Usuário cancelou\n",
    "    \n",
    "    # Solicita a senha, com os caracteres ocultos\n",
    "    password = simpledialog.askstring(\"Login\", \"Informe a senha:\", show=\"*\")\n",
    "    if password is None:\n",
    "        return  # Usuário cancelou\n",
    "    \n",
    "    # Exibe os dados (só para testes! não use em produção.)\n",
    "    messagebox.showinfo(\"Dados de Login\", f\"Usuário: {username}\\nSenha: {'*' * len(password)}\")\n",
    "\n",
    "# Criando a janela principal\n",
    "janela = tk.Tk()\n",
    "janela.title(\"Exemplo de Dialogs de Login\")\n",
    "janela.geometry(\"320x200+250+150\")\n",
    "\n",
    "# Botão para acionar o dialog de login\n",
    "botao_login = tk.Button(janela, text=\"Login\", command=solicitar_login)\n",
    "botao_login.pack(pady=20)\n",
    "\n",
    "def solicitar_login_validado():\n",
    "    dialog = DialogLoginValidado(janela, title=\"Login Validado\")\n",
    "    try:\n",
    "        user = dialog.user\n",
    "        messagebox.showinfo(\"Dados de Login\", f\"Usuário: {user}\")\n",
    "    except AttributeError:\n",
    "        # Usuário cancelou ou a validação não foi satisfeita\n",
    "        pass\n",
    "\n",
    "# Adiciona um botão para demonstrar a dialog com validação\n",
    "botao_login_validado = tk.Button(janela, text=\"Login Validado\", command=solicitar_login_validado)\n",
    "botao_login_validado.pack(pady=10)\n",
    "\n",
    "\n",
    "janela.mainloop()"
   ]
  }
 ],
 "metadata": {
  "kernelspec": {
   "display_name": "Python 3",
   "language": "python",
   "name": "python3"
  },
  "language_info": {
   "codemirror_mode": {
    "name": "ipython",
    "version": 3
   },
   "file_extension": ".py",
   "mimetype": "text/x-python",
   "name": "python",
   "nbconvert_exporter": "python",
   "pygments_lexer": "ipython3",
   "version": "3.13.3"
  }
 },
 "nbformat": 4,
 "nbformat_minor": 5
}
