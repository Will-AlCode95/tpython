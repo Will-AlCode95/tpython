{
 "cells": [
  {
   "cell_type": "code",
   "execution_count": null,
   "id": "31e31c62",
   "metadata": {},
   "outputs": [],
   "source": [
    "# Passo 1: Abrir o arquivo de texto\n",
    "# Substitua 'arquivo.txt' pelo caminho do seu arquivo\n",
    "with open('arquivo.txt', 'r', encoding='utf-8') as arquivo:\n",
    "    conteudo = arquivo.readlines()  # Lê todas as linhas do arquivo\n",
    "\n",
    "# Passo 2: Listar o conteúdo linha por linha\n",
    "print(\"Conteúdo linha por linha:\")\n",
    "for linha in conteudo:\n",
    "    print(linha.strip())  # Remove espaços extras e quebras de linha\n",
    "\n",
    "# Passo 3: Listar o conteúdo palavra por palavra\n",
    "print(\"\\nConteúdo palavra por palavra:\")\n",
    "for linha in conteudo:\n",
    "    palavras = linha.split()  # Divide a linha em palavras\n",
    "    for palavra in palavras:\n",
    "        print(palavra)"
   ]
  },
  {
   "cell_type": "code",
   "execution_count": 6,
   "id": "aa216cd3",
   "metadata": {},
   "outputs": [
    {
     "name": "stdout",
     "output_type": "stream",
     "text": [
      "user1\tuser1@example.com\n",
      "user2\tuser2@example.com\n",
      "user3\tuser3@example.com\n",
      "user4\tuser4@example.com\n",
      "user5\tuser5@example.com\n",
      "user6\tuser6@example.com\n",
      "user7\tuser7@example.com\n",
      "user8\tuser8@example.com\n",
      "user9\tuser9@example.com\n",
      "user10\tuser10@example.com\n"
     ]
    }
   ],
   "source": [
    "# Abrir o arquivo 'users.txt' para leitura\n",
    "with open('users.txt', 'r', encoding='utf-8') as users_file:\n",
    "    # Ler os primeiros 10 registros\n",
    "    primeiros_registros = [next(users_file) for _ in range(10)]\n",
    "\n",
    "# Separar os valores usando a vírgula como delimitador e criar a lista desejada\n",
    "resultado = [f\"{linha.split(',')[0]}\\t{linha.split(',')[1]}\" for linha in primeiros_registros]\n",
    "\n",
    "# Imprimir a lista resultante\n",
    "for _ in resultado:\n",
    "    print(_)"
   ]
  },
  {
   "cell_type": "markdown",
   "id": "d6518b70",
   "metadata": {},
   "source": [
    "### Como abrir um arquivo de texto em Python e gravar uma linha de texto nele\n",
    "\n",
    "Em Python, você pode abrir um arquivo de texto para escrita utilizando a função `open()` com o modo `'w'` (escrita) ou `'a'` (acréscimo). O modo `'w'` sobrescreve o conteúdo existente no arquivo, enquanto o modo `'a'` adiciona novas linhas ao final do arquivo sem apagar o conteúdo existente.\n",
    "\n",
    "#### Exemplo de código:\n"
   ]
  },
  {
   "cell_type": "code",
   "execution_count": null,
   "id": "f65e5b2f",
   "metadata": {},
   "outputs": [],
   "source": [
    "# Abrir um arquivo para escrita (modo 'w') e gravar uma linha de texto\n",
    "with open('exemplo.txt', 'w', encoding='utf-8') as arquivo:\n",
    "    arquivo.write('Esta é a primeira linha do arquivo.\\n')\n",
    "\n",
    "# Abrir o mesmo arquivo no modo 'a' (acréscimo) e adicionar mais uma linha\n",
    "with open('exemplo.txt', 'a', encoding='utf-8') as arquivo:\n",
    "    arquivo.write('Esta é uma linha adicional no arquivo.\\n')\n",
    "\n",
    "# Ler o conteúdo do arquivo para verificar o resultado\n",
    "with open('exemplo.txt', 'r', encoding='utf-8') as arquivo:\n",
    "    conteudo = arquivo.read()\n",
    "    print(\"Conteúdo do arquivo:\")\n",
    "    print(conteudo)"
   ]
  }
 ],
 "metadata": {
  "kernelspec": {
   "display_name": "Python 3",
   "language": "python",
   "name": "python3"
  },
  "language_info": {
   "codemirror_mode": {
    "name": "ipython",
    "version": 3
   },
   "file_extension": ".py",
   "mimetype": "text/x-python",
   "name": "python",
   "nbconvert_exporter": "python",
   "pygments_lexer": "ipython3",
   "version": "3.13.3"
  }
 },
 "nbformat": 4,
 "nbformat_minor": 5
}
