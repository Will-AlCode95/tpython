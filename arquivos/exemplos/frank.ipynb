{
 "cells": [
  {
   "cell_type": "code",
   "execution_count": 2,
   "id": "bc8406e4",
   "metadata": {},
   "outputs": [],
   "source": [
    "frank = open(\"frank.txt\", \"r\", encoding=\"utf-8\")"
   ]
  },
  {
   "cell_type": "code",
   "execution_count": 8,
   "id": "3a9c74ac",
   "metadata": {},
   "outputs": [
    {
     "data": {
      "text/plain": [
       "'St. Petersburgh, Dec. 11th, 17—.\\n'"
      ]
     },
     "execution_count": 8,
     "metadata": {},
     "output_type": "execute_result"
    }
   ],
   "source": [
    "frank.readline()"
   ]
  },
  {
   "cell_type": "code",
   "execution_count": null,
   "id": "797292d2",
   "metadata": {},
   "outputs": [],
   "source": [
    "frank.read(1) # ler 1 caractere"
   ]
  },
  {
   "cell_type": "markdown",
   "id": "5dcd1940",
   "metadata": {},
   "source": [
    "## Contagem de palavras"
   ]
  },
  {
   "cell_type": "code",
   "execution_count": null,
   "id": "93a24b52",
   "metadata": {},
   "outputs": [
    {
     "name": "stdout",
     "output_type": "stream",
     "text": [
      "Total de palavras: 78208\n"
     ]
    }
   ],
   "source": [
    "frank = open(\"frank.txt\", \"r\", encoding=\"utf-8\")\n",
    "\n",
    "linhas = frank.readlines()\n",
    "\n",
    "total = 0\n",
    "\n",
    "for linha in linhas: # pegamos linha por linha do texto\n",
    "    if linha[0] == '\\n': # se linha em branco, passa pra próxima\n",
    "        continue\n",
    "    # se linha de texto...\n",
    "    for car in linha: # ...analisamos caractere por caractere da linha\n",
    "        if car == ' ' or car == '\\n': \n",
    "            total +=1\n",
    "\n",
    "frank.close()\n",
    "print(f\"Total de palavras: {total}\")"
   ]
  }
 ],
 "metadata": {
  "kernelspec": {
   "display_name": "Python 3",
   "language": "python",
   "name": "python3"
  },
  "language_info": {
   "codemirror_mode": {
    "name": "ipython",
    "version": 3
   },
   "file_extension": ".py",
   "mimetype": "text/x-python",
   "name": "python",
   "nbconvert_exporter": "python",
   "pygments_lexer": "ipython3",
   "version": "3.13.1"
  }
 },
 "nbformat": 4,
 "nbformat_minor": 5
}
