{
 "cells": [
  {
   "cell_type": "markdown",
   "id": "244fef71",
   "metadata": {},
   "source": [
    "## Salvar dados estruturados"
   ]
  },
  {
   "cell_type": "markdown",
   "id": "11a966a1",
   "metadata": {},
   "source": [
    "Para salvar dados em um arquivo é importante que haja uma estrutura para os dados.\n",
    "\n",
    "> Uma estrutura é um formato que é aplicado aos dados.\n",
    "\n",
    "Uma estrutura é importante para facilitar (e até possibilitar) a leitura dos dados de um forma que faça sentido (atribuindo significado a cada parte dos dados).\n",
    "\n"
   ]
  },
  {
   "cell_type": "markdown",
   "id": "f0fcfc5a",
   "metadata": {},
   "source": [
    "Luis Gustavo <lgmaciel@senacrs.com.br>\n",
    "+55 (51) 9098.8876\n",
    "Professor - SENAC Tech\n",
    "Porto Alegre, RS\n",
    "\n"
   ]
  },
  {
   "cell_type": "code",
   "execution_count": 20,
   "id": "b4ffd5bb",
   "metadata": {},
   "outputs": [],
   "source": [
    "arq_agenda = open(\"agenda.dat\", \"a\", encoding=\"utf-8\")"
   ]
  },
  {
   "cell_type": "code",
   "execution_count": 21,
   "id": "59871a51",
   "metadata": {},
   "outputs": [
    {
     "data": {
      "text/plain": [
       "98"
      ]
     },
     "execution_count": 21,
     "metadata": {},
     "output_type": "execute_result"
    }
   ],
   "source": [
    "arq_agenda.write(\n",
    "'''Luis Gustavo <lgmaciel@senacrs.com.br>\n",
    "+55 (51) 9098.8876\n",
    "Professor - SENAC Tech\n",
    "Porto Alegre, RS\n",
    "'''\n",
    "    )"
   ]
  },
  {
   "cell_type": "code",
   "execution_count": 22,
   "id": "deb52b8d",
   "metadata": {},
   "outputs": [],
   "source": [
    "arq_agenda.close()"
   ]
  },
  {
   "cell_type": "code",
   "execution_count": null,
   "id": "4b29888e",
   "metadata": {},
   "outputs": [
    {
     "name": "stdout",
     "output_type": "stream",
     "text": [
      "Luis Gustavo <lgmaciel@senacrs.com.br>\n",
      "+55 (51) 9098.8876\n",
      "Professor - SENAC Tech\n",
      "Porto Alegre, RS\n",
      "Luis Gustavo <lgmaciel@senacrs.com.br>\n",
      "+55 (51) 9098.8876\n",
      "Professor - SENAC Tech\n",
      "Porto Alegre, RS\n",
      "Luis Gustavo <lgmaciel@senacrs.com.br>\n",
      "+55 (51) 9098.8876\n",
      "Professor - SENAC Tech\n",
      "Porto Alegre, RS\n",
      "\n"
     ]
    }
   ],
   "source": [
    "arq_agenda = open(\"agenda.dat\",\"r\")\n",
    "conteudo = arq_agenda.read()\n",
    "print(conteudo)\n",
    "arq_agenda.close()"
   ]
  },
  {
   "cell_type": "code",
   "execution_count": 23,
   "id": "1db58da7",
   "metadata": {},
   "outputs": [
    {
     "name": "stdout",
     "output_type": "stream",
     "text": [
      "Número de registros: 4.0\n"
     ]
    }
   ],
   "source": [
    "arq_agenda = open(\"agenda.dat\",\"r\")\n",
    "linhas = arq_agenda.readlines()\n",
    "tamanhoReg = 4\n",
    "nRegs = len(linhas) / tamanhoReg\n",
    "print(f\"Número de registros: {nRegs}\")\n",
    "\n",
    "arq_agenda.close()"
   ]
  },
  {
   "cell_type": "code",
   "execution_count": 32,
   "id": "07841dab",
   "metadata": {},
   "outputs": [
    {
     "name": "stdout",
     "output_type": "stream",
     "text": [
      "Número de registros: 4.0\n",
      "Luis Gustavo  lgmaciel@senacrs.com.br\n",
      "Luis Gustavo  lgmaciel@senacrs.com.br\n",
      "Luis Gustavo  lgmaciel@senacrs.com.br\n",
      "Luis Gustavo  lgmaciel@senacrs.com.br\n"
     ]
    }
   ],
   "source": [
    "arq_agenda = open(\"agenda.dat\",\"r\")\n",
    "linhas = arq_agenda.readlines()\n",
    "tamanhoReg = 4\n",
    "nRegs = len(linhas) / tamanhoReg\n",
    "print(f\"Número de registros: {nRegs}\")\n",
    "\n",
    "for i in range(0, len(linhas), tamanhoReg):\n",
    "    linhaNome = linhas[i]\n",
    "    nome = linhaNome[0: linhaNome.index('<')]\n",
    "    email = linhaNome[linhaNome.index('<')+1: linhaNome.index('>')]\n",
    "\n",
    "    print(nome, email)\n",
    "\n",
    "arq_agenda.close()"
   ]
  },
  {
   "cell_type": "code",
   "execution_count": 48,
   "id": "6984e9fe",
   "metadata": {},
   "outputs": [
    {
     "name": "stdout",
     "output_type": "stream",
     "text": [
      "Luis Gustavo\n",
      "Eric Merel\n",
      "Nata Cardoso\n",
      "Yuri Zambrano\n"
     ]
    }
   ],
   "source": [
    "arq_agenda = open(\"agenda.dat\",\"r\")\n",
    "linhas = arq_agenda.readlines()\n",
    "\n",
    "for linha in linhas:\n",
    "    try:    \n",
    "        nome = linha[linha.index('<nome>')+6 : linha.index('</nome>')]\n",
    "    except:\n",
    "        continue\n",
    "    print(nome)\n",
    "\n",
    "arq_agenda.close()"
   ]
  }
 ],
 "metadata": {
  "kernelspec": {
   "display_name": "Python 3",
   "language": "python",
   "name": "python3"
  },
  "language_info": {
   "codemirror_mode": {
    "name": "ipython",
    "version": 3
   },
   "file_extension": ".py",
   "mimetype": "text/x-python",
   "name": "python",
   "nbconvert_exporter": "python",
   "pygments_lexer": "ipython3",
   "version": "3.13.1"
  }
 },
 "nbformat": 4,
 "nbformat_minor": 5
}
