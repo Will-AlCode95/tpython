{
 "cells": [
  {
   "cell_type": "markdown",
   "id": "1917f17e",
   "metadata": {},
   "source": [
    "# Introdução a Mapas\n",
    "\n",
    "Mapas, também conhecidos como dicionários em Python, são estruturas de dados que armazenam pares de chave-valor. Eles são úteis para associar informações de forma eficiente e são amplamente utilizados em diversas aplicações."
   ]
  },
  {
   "cell_type": "markdown",
   "id": "45e73a99",
   "metadata": {},
   "source": [
    "## Criando um Mapa\n",
    "\n",
    "Para criar um mapa em Python, utilizamos chaves `{}` e definimos pares de chave-valor separados por dois pontos `:`."
   ]
  },
  {
   "cell_type": "code",
   "execution_count": null,
   "id": "01237673",
   "metadata": {},
   "outputs": [],
   "source": [
    "# Exemplo de criação de um mapa\n",
    "alunos = {\"João\": 8.5, \"Maria\": 9.0, \"Pedro\": 7.5}"
   ]
  },
  {
   "cell_type": "markdown",
   "id": "c859a6b3",
   "metadata": {},
   "source": [
    "## Acessando Valores\n",
    "\n",
    "Os valores podem ser acessados utilizando suas respectivas chaves."
   ]
  },
  {
   "cell_type": "code",
   "execution_count": null,
   "id": "72148afe",
   "metadata": {},
   "outputs": [],
   "source": [
    "# Acessando a nota de João\n",
    "print(alunos[\"João\"])  # Saída: 8.5"
   ]
  },
  {
   "cell_type": "markdown",
   "id": "2573bc73",
   "metadata": {},
   "source": [
    "## Adicionando e Removendo Elementos\n",
    "\n",
    "Podemos adicionar novos pares de chave-valor ou remover elementos existentes."
   ]
  },
  {
   "cell_type": "code",
   "execution_count": null,
   "id": "e5dc4352",
   "metadata": {},
   "outputs": [],
   "source": [
    "# Adicionando um novo aluno\n",
    "alunos[\"Ana\"] = 8.0\n",
    "\n",
    "# Removendo um aluno\n",
    "del alunos[\"Pedro\"]\n",
    "\n",
    "print(alunos)  # Saída: {'João': 8.5, 'Maria': 9.0, 'Ana': 8.0}"
   ]
  },
  {
   "cell_type": "markdown",
   "id": "367e7956",
   "metadata": {},
   "source": [
    "## Iterando sobre um Mapa\n",
    "\n",
    "Podemos iterar sobre as chaves, valores ou ambos em um mapa."
   ]
  },
  {
   "cell_type": "code",
   "execution_count": 2,
   "id": "0dbb1cba",
   "metadata": {},
   "outputs": [
    {
     "ename": "NameError",
     "evalue": "name 'alunos' is not defined",
     "output_type": "error",
     "traceback": [
      "\u001b[31m---------------------------------------------------------------------------\u001b[39m",
      "\u001b[31mNameError\u001b[39m                                 Traceback (most recent call last)",
      "\u001b[36mCell\u001b[39m\u001b[36m \u001b[39m\u001b[32mIn[2]\u001b[39m\u001b[32m, line 2\u001b[39m\n\u001b[32m      1\u001b[39m \u001b[38;5;66;03m# Iterando sobre as chaves e valores\u001b[39;00m\n\u001b[32m----> \u001b[39m\u001b[32m2\u001b[39m \u001b[38;5;28;01mfor\u001b[39;00m aluno, nota \u001b[38;5;129;01min\u001b[39;00m \u001b[43malunos\u001b[49m.items():\n\u001b[32m      3\u001b[39m     \u001b[38;5;28mprint\u001b[39m(\u001b[33mf\u001b[39m\u001b[33m\"\u001b[39m\u001b[38;5;132;01m{\u001b[39;00maluno\u001b[38;5;132;01m}\u001b[39;00m\u001b[33m: \u001b[39m\u001b[38;5;132;01m{\u001b[39;00mnota\u001b[38;5;132;01m}\u001b[39;00m\u001b[33m\"\u001b[39m)\n",
      "\u001b[31mNameError\u001b[39m: name 'alunos' is not defined"
     ]
    }
   ],
   "source": [
    "# Iterando sobre as chaves e valores\n",
    "for aluno, nota in alunos.items():\n",
    "    print(f\"{aluno}: {nota}\")"
   ]
  }
 ],
 "metadata": {
  "kernelspec": {
   "display_name": "Python 3",
   "language": "python",
   "name": "python3"
  },
  "language_info": {
   "codemirror_mode": {
    "name": "ipython",
    "version": 3
   },
   "file_extension": ".py",
   "mimetype": "text/x-python",
   "name": "python",
   "nbconvert_exporter": "python",
   "pygments_lexer": "ipython3",
   "version": "3.13.2"
  }
 },
 "nbformat": 4,
 "nbformat_minor": 5
}
