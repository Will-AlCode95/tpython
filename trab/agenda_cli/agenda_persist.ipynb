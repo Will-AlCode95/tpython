{
 "cells": [
  {
   "cell_type": "markdown",
   "id": "f0320aa5",
   "metadata": {},
   "source": [
    "## Persistindo dados usando 'Shelve'"
   ]
  },
  {
   "cell_type": "code",
   "execution_count": 2,
   "id": "dad37842",
   "metadata": {},
   "outputs": [],
   "source": [
    "import shelve\n",
    "\n",
    "agenda = shelve.open('agenda.dat')\n"
   ]
  },
  {
   "cell_type": "code",
   "execution_count": 3,
   "id": "222355a0",
   "metadata": {},
   "outputs": [],
   "source": [
    "agenda[\"lgmaciel@senacrs.edu.br\"] = ['Gustavo',40,True]"
   ]
  },
  {
   "cell_type": "code",
   "execution_count": 4,
   "id": "be5d084e",
   "metadata": {},
   "outputs": [],
   "source": [
    "agenda[\"sry@email.com\"] = [\"Sr. Y\",20,False]"
   ]
  },
  {
   "cell_type": "code",
   "execution_count": 6,
   "id": "98c683f1",
   "metadata": {},
   "outputs": [],
   "source": [
    "agenda.close()"
   ]
  },
  {
   "cell_type": "markdown",
   "id": "1d88ab1e",
   "metadata": {},
   "source": [
    "## Ler dados serializados"
   ]
  },
  {
   "cell_type": "code",
   "execution_count": 1,
   "id": "ee491d7b",
   "metadata": {},
   "outputs": [],
   "source": [
    "import shelve\n",
    "agenda = shelve.open(\"agenda.dat\")"
   ]
  },
  {
   "cell_type": "code",
   "execution_count": 2,
   "id": "d084d167",
   "metadata": {},
   "outputs": [
    {
     "data": {
      "text/plain": [
       "['Sr. Y', 20, False]"
      ]
     },
     "execution_count": 2,
     "metadata": {},
     "output_type": "execute_result"
    }
   ],
   "source": [
    "agenda[\"sry@email.com\"]"
   ]
  }
 ],
 "metadata": {
  "kernelspec": {
   "display_name": "Python 3",
   "language": "python",
   "name": "python3"
  },
  "language_info": {
   "codemirror_mode": {
    "name": "ipython",
    "version": 3
   },
   "file_extension": ".py",
   "mimetype": "text/x-python",
   "name": "python",
   "nbconvert_exporter": "python",
   "pygments_lexer": "ipython3",
   "version": "3.13.1"
  }
 },
 "nbformat": 4,
 "nbformat_minor": 5
}
