{
 "cells": [
  {
   "cell_type": "markdown",
   "metadata": {},
   "source": [
    "### Funções de Manipulação de Diretórios no Pacote `os` do Python\n",
    "\n",
    "O pacote `os` do Python fornece diversas funções para manipulação de diretórios e interação com o sistema operacional. Algumas das funções mais comuns:\n",
    "\n",
    "- **`os.getcwd()`**: Retorna o diretório de trabalho atual (Current Working Directory). É útil para verificar em qual diretório o script está sendo executado.\n",
    "\n",
    "- **`os.listdir(path='.')`**: Lista todos os arquivos e diretórios no caminho especificado. Se nenhum caminho for fornecido, lista o conteúdo do diretório atual.\n",
    "\n",
    "- **`os.mkdir(path)`**: Cria um novo diretório no caminho especificado. Se o diretório já existir, uma exceção será levantada.\n",
    "\n",
    "- **`os.makedirs(path, exist_ok=False)`**: Cria diretórios recursivamente. Se `exist_ok` for `True`, não levantará uma exceção se os diretórios já existirem.\n",
    "\n",
    "- **`os.rmdir(path)`**: Remove o diretório especificado. O diretório deve estar vazio, caso contrário, uma exceção será levantada.\n",
    "\n",
    "- **`os.removedirs(path)`**: Remove diretórios recursivamente. Remove todos os diretórios intermediários vazios no caminho especificado.\n",
    "\n",
    "- **`os.chdir(path)`**: Altera o diretório de trabalho atual para o caminho especificado.\n",
    "\n",
    "- **`os.getlogin()`**: Retorna o nome do usuário atualmente logado no terminal.\n",
    "\n",
    "- **`os.getenv(key, default=None)`**: Retorna o valor de uma variável de ambiente especificada por `key`. Se a variável não existir, retorna o valor padrão especificado.\n",
    "\n",
    "- **`os.environ`**: Um mapeamento que contém todas as variáveis de ambiente do sistema. Pode ser usado para acessar ou modificar variáveis de ambiente.\n",
    "\n",
    "\n",
    "\n",
    "Essas funções são amplamente utilizadas para criar, navegar e gerenciar diretórios, além de interagir com o ambiente do sistema operacional."
   ]
  },
  {
   "cell_type": "code",
   "execution_count": null,
   "metadata": {},
   "outputs": [],
   "source": [
    "import os"
   ]
  },
  {
   "cell_type": "code",
   "execution_count": null,
   "metadata": {},
   "outputs": [],
   "source": [
    "os.getlogin()"
   ]
  },
  {
   "cell_type": "code",
   "execution_count": null,
   "metadata": {},
   "outputs": [],
   "source": [
    "os.listdir('.')"
   ]
  },
  {
   "cell_type": "code",
   "execution_count": null,
   "metadata": {},
   "outputs": [],
   "source": [
    "os.cpu_count()"
   ]
  },
  {
   "cell_type": "code",
   "execution_count": null,
   "metadata": {},
   "outputs": [],
   "source": [
    "os.getenv(\"OS\")"
   ]
  },
  {
   "cell_type": "code",
   "execution_count": null,
   "metadata": {},
   "outputs": [],
   "source": [
    "os.environ['OS']"
   ]
  },
  {
   "cell_type": "code",
   "execution_count": null,
   "metadata": {},
   "outputs": [],
   "source": [
    "os.getcwd()"
   ]
  },
  {
   "cell_type": "code",
   "execution_count": null,
   "metadata": {},
   "outputs": [],
   "source": []
  }
 ],
 "metadata": {
  "language_info": {
   "name": "python"
  }
 },
 "nbformat": 4,
 "nbformat_minor": 2
}
