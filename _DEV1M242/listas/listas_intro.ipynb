{
 "cells": [
  {
   "cell_type": "markdown",
   "id": "d14b048d",
   "metadata": {},
   "source": [
    "## Listas\n",
    "\n",
    "Listas são uma estrutura de dados fundamental em Python que permite armazenar múltiplos valores em uma única variável. Elas são muito versáteis e amplamente utilizadas em algoritmos e programas para manipulação de dados.\n",
    "\n",
    "### Características das Listas\n",
    "- **Mutáveis**: O conteúdo de uma lista pode ser alterado após sua criação.\n",
    "- **Ordenadas**: Os elementos possuem uma ordem definida e podem ser acessados por índices.\n",
    "- **Aceitam Tipos Diversos**: Uma lista pode conter elementos de diferentes tipos, como números, strings e até outras listas.\n",
    "\n",
    "### Criando Listas\n",
    "Para criar uma lista, utilizamos colchetes `[]` e separamos os elementos por vírgulas:\n",
    "\n"
   ]
  },
  {
   "cell_type": "code",
   "execution_count": null,
   "id": "27f9b26d",
   "metadata": {},
   "outputs": [],
   "source": [
    "# Exemplo de lista com números\n",
    "numeros = [1, 2, 3, 4, 5]"
   ]
  },
  {
   "cell_type": "code",
   "execution_count": 1,
   "id": "aa561d79",
   "metadata": {},
   "outputs": [],
   "source": [
    "a = \"granola\"\n",
    "b = \"leite\"\n",
    "c = \"pão\"\n",
    "d = \"café\"\n",
    "\n",
    "compras = [\n",
    "    \"granola\",\n",
    "    \"leite\",\n",
    "    \"pão\",\n",
    "    \"café\"\n",
    "]"
   ]
  },
  {
   "cell_type": "code",
   "execution_count": null,
   "id": "ffcba5c4",
   "metadata": {},
   "outputs": [],
   "source": [
    "# Exemplo de lista com tipos variados\n",
    "elementos = [1, \"Python\", True, [1, 2, 3]]"
   ]
  },
  {
   "cell_type": "markdown",
   "id": "85e688c6",
   "metadata": {},
   "source": [
    "### Acessando Elementos\n",
    "Os elementos de uma lista podem ser acessados por seus índices, começando do 0:"
   ]
  },
  {
   "cell_type": "code",
   "execution_count": null,
   "id": "6fb01e52",
   "metadata": {},
   "outputs": [],
   "source": [
    "# Acessando o primeiro elemento\n",
    "print(numeros[0])  # Saída: 1\n",
    "\n",
    "# Acessando o último elemento\n",
    "print(numeros[-1])  # Saída: 5\n"
   ]
  },
  {
   "cell_type": "code",
   "execution_count": 6,
   "id": "05c17dd4",
   "metadata": {},
   "outputs": [
    {
     "data": {
      "text/plain": [
       "'leite'"
      ]
     },
     "execution_count": 6,
     "metadata": {},
     "output_type": "execute_result"
    }
   ],
   "source": [
    "compras[-3]"
   ]
  },
  {
   "cell_type": "markdown",
   "id": "b414ab58",
   "metadata": {},
   "source": [
    "\n",
    "### Operações Comuns\n",
    "\n",
    "- **Adicionar Elementos**: Utilizamos o método `append` para adicionar um elemento ao final da lista."
   ]
  },
  {
   "cell_type": "code",
   "execution_count": null,
   "id": "db5ed871",
   "metadata": {},
   "outputs": [],
   "source": [
    "numeros.append(6)\n",
    "print(numeros)  # Saída: [1, 2, 3, 4, 5, 6]\n"
   ]
  },
  {
   "cell_type": "code",
   "execution_count": 8,
   "id": "859dba24",
   "metadata": {},
   "outputs": [
    {
     "name": "stdout",
     "output_type": "stream",
     "text": [
      "['granola', 'leite', 'pão', 'café', 'chimia']\n"
     ]
    }
   ],
   "source": [
    "compras.append(\"chimia\")\n",
    "print(compras)"
   ]
  },
  {
   "cell_type": "markdown",
   "id": "cfa07880",
   "metadata": {},
   "source": [
    "\n",
    "- **Remover Elementos**: Utilizamos o método `remove` para remover um elemento específico.\n"
   ]
  },
  {
   "cell_type": "code",
   "execution_count": null,
   "id": "1c6ee0f4",
   "metadata": {},
   "outputs": [],
   "source": [
    "numeros.remove(3)\n",
    "print(numeros)  # Saída: [1, 2, 4, 5, 6]"
   ]
  },
  {
   "cell_type": "code",
   "execution_count": 10,
   "id": "e8498c63",
   "metadata": {},
   "outputs": [
    {
     "name": "stdout",
     "output_type": "stream",
     "text": [
      "['granola', 'leite', 'pão', 'chimia']\n"
     ]
    }
   ],
   "source": [
    "compras.remove(\"café\")\n",
    "print(compras)"
   ]
  },
  {
   "cell_type": "markdown",
   "id": "cf166f46",
   "metadata": {},
   "source": [
    "\n",
    "- **Tamanho da Lista**: Utilizamos a função `len` para obter o número de elementos.\n"
   ]
  },
  {
   "cell_type": "code",
   "execution_count": null,
   "id": "78240c0f",
   "metadata": {},
   "outputs": [],
   "source": [
    "print(len(numeros))  # Saída: 5"
   ]
  },
  {
   "cell_type": "code",
   "execution_count": 11,
   "id": "3b94c352",
   "metadata": {},
   "outputs": [
    {
     "data": {
      "text/plain": [
       "4"
      ]
     },
     "execution_count": 11,
     "metadata": {},
     "output_type": "execute_result"
    }
   ],
   "source": [
    "len(compras)"
   ]
  },
  {
   "cell_type": "markdown",
   "id": "4c4da2cf",
   "metadata": {},
   "source": [
    "\n",
    "Listas são uma ferramenta poderosa para resolver problemas e organizar dados em Python. Nos próximos exemplos, exploraremos mais operações e usos práticos dessa estrutura de dados.\n"
   ]
  },
  {
   "cell_type": "markdown",
   "id": "d6346732",
   "metadata": {},
   "source": [
    "## Removendo elementos"
   ]
  },
  {
   "cell_type": "markdown",
   "id": "8260e810",
   "metadata": {},
   "source": [
    "#### pelo índice"
   ]
  },
  {
   "cell_type": "code",
   "execution_count": 13,
   "id": "3e2b1528",
   "metadata": {},
   "outputs": [
    {
     "data": {
      "text/plain": [
       "['granola', 'leite', 'pão']"
      ]
     },
     "execution_count": 13,
     "metadata": {},
     "output_type": "execute_result"
    }
   ],
   "source": [
    "del compras[3]\n",
    "compras"
   ]
  },
  {
   "cell_type": "markdown",
   "id": "0777ae6e",
   "metadata": {},
   "source": [
    "#### por valor"
   ]
  },
  {
   "cell_type": "code",
   "execution_count": 14,
   "id": "d6ab947a",
   "metadata": {},
   "outputs": [
    {
     "data": {
      "text/plain": [
       "['granola', 'pão']"
      ]
     },
     "execution_count": 14,
     "metadata": {},
     "output_type": "execute_result"
    }
   ],
   "source": [
    "compras.remove('leite')\n",
    "compras"
   ]
  },
  {
   "cell_type": "markdown",
   "id": "21e482b5",
   "metadata": {},
   "source": [
    "> Observação: O primeiro valor encontrado é o que será removido."
   ]
  },
  {
   "cell_type": "code",
   "execution_count": null,
   "id": "07be3499",
   "metadata": {},
   "outputs": [
    {
     "name": "stdout",
     "output_type": "stream",
     "text": [
      "['açúcar', 'leite', 'ovo', 'leite', 'pão', 'chimia', 'queijo', 'pão']\n",
      "['açúcar', 'leite', 'ovo', 'leite', 'chimia', 'queijo', 'pão']\n"
     ]
    }
   ],
   "source": [
    "compras = [\n",
    "    \"açúcar\",\n",
    "    \"leite\",\n",
    "    \"ovo\",\n",
    "    \"leite\",\n",
    "    \"pão\",\n",
    "    \"chimia\",\n",
    "    \"queijo\",\n",
    "    \"pão\"\n",
    "]\n",
    "print(compras)\n",
    "compras.remove(\"pão\")\n",
    "print(compras)"
   ]
  },
  {
   "cell_type": "markdown",
   "id": "f8ae4c24",
   "metadata": {},
   "source": [
    "### Alterando valores de uma lista (update)"
   ]
  },
  {
   "cell_type": "code",
   "execution_count": 17,
   "id": "33bd6f26",
   "metadata": {},
   "outputs": [
    {
     "name": "stdout",
     "output_type": "stream",
     "text": [
      "['açúcar', 'leite', 'ovo', 'iogurte', 'chimia', 'queijo', 'pão']\n"
     ]
    }
   ],
   "source": [
    "compras[3] = \"iogurte\"\n",
    "print(compras)"
   ]
  },
  {
   "cell_type": "markdown",
   "id": "9cdaf528",
   "metadata": {},
   "source": [
    "### Alterando lista pesquisando por valor"
   ]
  },
  {
   "cell_type": "code",
   "execution_count": null,
   "id": "d401fbbe",
   "metadata": {},
   "outputs": [
    {
     "data": {
      "text/plain": [
       "['granola', 'leite', 'uva', 'iogurte', 'geleia', 'queijo', 'pão']"
      ]
     },
     "execution_count": 21,
     "metadata": {},
     "output_type": "execute_result"
    }
   ],
   "source": [
    "indice_alterar = compras.index(\"ovo\")\n",
    "compras[indice_alterar] = \"uva\"\n",
    "compras"
   ]
  },
  {
   "cell_type": "markdown",
   "id": "15a7ff40",
   "metadata": {},
   "source": [
    "### Procurando um elemento na lista"
   ]
  },
  {
   "cell_type": "markdown",
   "id": "4ba11861",
   "metadata": {},
   "source": [
    "Se precisamos saber a posição de um elemento na lista, usamos `index()`"
   ]
  },
  {
   "cell_type": "code",
   "execution_count": 35,
   "id": "40288d33",
   "metadata": {},
   "outputs": [
    {
     "name": "stdout",
     "output_type": "stream",
     "text": [
      "Não existe na lista\n"
     ]
    }
   ],
   "source": [
    "try:\n",
    "    compras.index(\"ovo\")\n",
    "    print(\"Existe na lista\")\n",
    "except ValueError:\n",
    "    print(\"Não existe na lista\")"
   ]
  },
  {
   "cell_type": "markdown",
   "id": "41fe17dd",
   "metadata": {},
   "source": [
    "Se precisamos apenas saber se o elemento está `na lista` usamos o operador `in`"
   ]
  },
  {
   "cell_type": "code",
   "execution_count": 40,
   "id": "ca7f3d53",
   "metadata": {},
   "outputs": [
    {
     "data": {
      "text/plain": [
       "True"
      ]
     },
     "execution_count": 40,
     "metadata": {},
     "output_type": "execute_result"
    }
   ],
   "source": [
    "\"ovo\" not in compras"
   ]
  },
  {
   "cell_type": "code",
   "execution_count": 37,
   "id": "7c11deb0",
   "metadata": {},
   "outputs": [
    {
     "data": {
      "text/plain": [
       "True"
      ]
     },
     "execution_count": 37,
     "metadata": {},
     "output_type": "execute_result"
    }
   ],
   "source": [
    "\"uva\" in compras"
   ]
  },
  {
   "cell_type": "markdown",
   "id": "9230a303",
   "metadata": {},
   "source": [
    "## Exemplo: uma 'mochila'"
   ]
  },
  {
   "cell_type": "code",
   "execution_count": 23,
   "id": "aee7540b",
   "metadata": {},
   "outputs": [
    {
     "name": "stdout",
     "output_type": "stream",
     "text": [
      "11\n"
     ]
    }
   ],
   "source": [
    "\n",
    "mochila = [] # capacidade de 10 itens\n",
    "\n",
    "mochila.append(\"skljfds\")\n",
    "mochila.append(\"skljfds\")\n",
    "mochila.append(\"skljfds\")\n",
    "mochila.append(\"skljfds\")\n",
    "mochila.append(\"skljfds\")\n",
    "mochila.append(\"skljfds\")\n",
    "mochila.append(\"skljfds\")\n",
    "mochila.append(\"skljfds\")\n",
    "mochila.append(\"skljfds\")\n",
    "mochila.append(\"skljfds\")\n",
    "mochila.append(\"skljfds\") # inválido\n",
    "\n",
    "print(len(mochila))"
   ]
  },
  {
   "cell_type": "code",
   "execution_count": null,
   "id": "78592ae2",
   "metadata": {},
   "outputs": [],
   "source": [
    "## um_item not in mochila\n",
    "\n",
    "def guardar(um_item):\n",
    "    if len(mochila)<10 and um_item not in mochila:\n",
    "        mochila.append(um_item)"
   ]
  },
  {
   "cell_type": "code",
   "execution_count": 47,
   "id": "1b35bdee",
   "metadata": {},
   "outputs": [
    {
     "name": "stdout",
     "output_type": "stream",
     "text": [
      "9\n"
     ]
    }
   ],
   "source": [
    "mochila = []\n",
    "\n",
    "guardar(\"item 1\")\n",
    "guardar(\"item 2\")\n",
    "guardar(\"item 3\")\n",
    "guardar(\"item 4\")\n",
    "guardar(\"item 1\")\n",
    "guardar(\"item 6\")\n",
    "guardar(\"item 7\")\n",
    "guardar(\"item 1\")\n",
    "guardar(\"item 9\")\n",
    "guardar(\"item 10\")\n",
    "guardar(\"item 11\") # inválido\n",
    "\n",
    "print(len(mochila))"
   ]
  },
  {
   "cell_type": "markdown",
   "id": "17a02756",
   "metadata": {},
   "source": [
    "## Mochila ver: orientada a objeto"
   ]
  },
  {
   "cell_type": "code",
   "execution_count": 50,
   "id": "fff3ead2",
   "metadata": {},
   "outputs": [],
   "source": [
    "class Item():\n",
    "    def __init__(self):\n",
    "        self.descricao = \"Sem descricao\"\n",
    "        self.quantidade = 1\n",
    "    \n",
    "    def __str__(self):\n",
    "        return f\"{self.descricao} ({self.quantidade})\"\n"
   ]
  },
  {
   "cell_type": "code",
   "execution_count": 70,
   "id": "fa39420e",
   "metadata": {},
   "outputs": [
    {
     "name": "stdout",
     "output_type": "stream",
     "text": [
      "Pedra arcaica de Minos (2)\n",
      "Gema Lilás de Mangur (3)\n",
      "Assassina silenciosa de Ezod (1)\n",
      "Rocha arcaica de Tantrok (1)\n"
     ]
    }
   ],
   "source": [
    "gema = Item()\n",
    "pedra = Item()\n",
    "espada = Item()\n",
    "rocha = Item()\n",
    "\n",
    "gema.descricao = \"Gema Lilás de Mangur\"\n",
    "espada.descricao = \"Assassina silenciosa de Ezod\"\n",
    "pedra.descricao = \"Pedra arcaica de Minos\"\n",
    "rocha.descricao = \"Rocha arcaica de Tantrok\"\n",
    "\n",
    "pedra.quantidade = 2\n",
    "gema.quantidade += 2\n",
    "\n",
    "print(pedra)\n",
    "print(gema)\n",
    "print(espada)\n",
    "print(rocha)"
   ]
  },
  {
   "cell_type": "code",
   "execution_count": 71,
   "id": "8a48bd9f",
   "metadata": {},
   "outputs": [],
   "source": [
    "mochila = [\n",
    "    pedra,\n",
    "    gema,\n",
    "    espada,\n",
    "    rocha\n",
    "]"
   ]
  },
  {
   "cell_type": "code",
   "execution_count": 72,
   "id": "5484211d",
   "metadata": {},
   "outputs": [
    {
     "name": "stdout",
     "output_type": "stream",
     "text": [
      "Pedra arcaica de Minos (2)\n",
      "Gema Lilás de Mangur (3)\n",
      "Assassina silenciosa de Ezod (1)\n",
      "Rocha arcaica de Tantrok (1)\n"
     ]
    }
   ],
   "source": [
    "for item in mochila:\n",
    "    print(item)"
   ]
  },
  {
   "cell_type": "code",
   "execution_count": 67,
   "id": "16461baf",
   "metadata": {},
   "outputs": [],
   "source": [
    "def procurar(descricao_do_item):\n",
    "    for item in mochila:\n",
    "        if descricao_do_item in item.descricao:\n",
    "            print(item)"
   ]
  },
  {
   "cell_type": "code",
   "execution_count": 73,
   "id": "ecee7ae9",
   "metadata": {},
   "outputs": [
    {
     "name": "stdout",
     "output_type": "stream",
     "text": [
      "Pedra arcaica de Minos (2)\n",
      "Rocha arcaica de Tantrok (1)\n"
     ]
    }
   ],
   "source": [
    "procurar(\"arcaica\")"
   ]
  }
 ],
 "metadata": {
  "kernelspec": {
   "display_name": "Python 3",
   "language": "python",
   "name": "python3"
  },
  "language_info": {
   "codemirror_mode": {
    "name": "ipython",
    "version": 3
   },
   "file_extension": ".py",
   "mimetype": "text/x-python",
   "name": "python",
   "nbconvert_exporter": "python",
   "pygments_lexer": "ipython3",
   "version": "3.13.3"
  }
 },
 "nbformat": 4,
 "nbformat_minor": 5
}
