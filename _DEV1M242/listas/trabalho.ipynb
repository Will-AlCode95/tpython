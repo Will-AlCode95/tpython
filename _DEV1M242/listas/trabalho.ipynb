{
 "cells": [
  {
   "cell_type": "markdown",
   "id": "ef27c1a5",
   "metadata": {},
   "source": [
    "## Trabalho: Gerador de nomes de itens"
   ]
  },
  {
   "cell_type": "markdown",
   "id": "b36a69a7",
   "metadata": {},
   "source": [
    "Usando listas, escreva uma `função` que retorna um nome aleatório para ser usado como nome de um item em um jogo do tipo `rogue`.\n",
    "\n",
    "Exemplo de uso:\n",
    "\n",
    "```python\n",
    "\n",
    "nome_do_item = gerar_nome_item()\n",
    "\n",
    "```\n"
   ]
  },
  {
   "cell_type": "markdown",
   "id": "42eb7766",
   "metadata": {},
   "source": [
    "## Estratégia de implementação\n",
    "\n",
    "**Possibilidade 1.** Você pode ter uma lista com vários nomes prontos e sortear um deles da lista para retornar como resposta\n",
    "\n",
    "**Possibilidade 2.** Você pode ter várias listas, cada uma contendo uma parte do nome (nome, qualidade, complemento) e gerar o nome assim:\n",
    "- sortear o nome da lista de nomes\n",
    "- sortear a qualidade da lista de qualidades\n",
    "- sortear o complemento da lista de complementos\n",
    "- e compor o nome a ser retornado a partir da concatenação de cada uma das três partes\n",
    "\n",
    "Exemplo de conteúdos para a lista\n",
    "\n",
    "- nome: Gema, Espada, Pedra, Rocha\n",
    "- qualidade: Lilás, Arcaica, Assassina Silenciosa\n",
    "- complemento: de Mangur, de Minos, perfeita, rota, de Ezod"
   ]
  },
  {
   "cell_type": "markdown",
   "id": "43fa25fb",
   "metadata": {},
   "source": [
    "### Dica\n",
    "\n",
    "Para fazer o sorteio, usar as funções do pacote `random`"
   ]
  },
  {
   "cell_type": "code",
   "execution_count": null,
   "id": "153355b3",
   "metadata": {},
   "outputs": [],
   "source": [
    "import random\n",
    "\n",
    "random.random()\n",
    "random.choice()\n"
   ]
  },
  {
   "cell_type": "code",
   "execution_count": 11,
   "id": "4e966948",
   "metadata": {},
   "outputs": [
    {
     "data": {
      "text/plain": [
       "0.3573900789115717"
      ]
     },
     "execution_count": 11,
     "metadata": {},
     "output_type": "execute_result"
    }
   ],
   "source": [
    "import random\n",
    "\n",
    "random.random()"
   ]
  },
  {
   "cell_type": "code",
   "execution_count": 96,
   "id": "e3476c05",
   "metadata": {},
   "outputs": [
    {
     "name": "stdout",
     "output_type": "stream",
     "text": [
      "4\n",
      "Elmo\n"
     ]
    }
   ],
   "source": [
    "nomes = [\"Pedra\", \"Gema\", \"Espada\", \"Cinturão\", \"Elmo\", \"Colar\", \"Botas\", \"Faca\"]\n",
    "\n",
    "pos_nome = int(random.random() * len(nomes))\n",
    "\n",
    "print( pos_nome )\n",
    "print(  nomes[pos_nome] )"
   ]
  },
  {
   "cell_type": "code",
   "execution_count": 116,
   "id": "a1586123",
   "metadata": {},
   "outputs": [
    {
     "data": {
      "text/plain": [
       "'Cinturão'"
      ]
     },
     "execution_count": 116,
     "metadata": {},
     "output_type": "execute_result"
    }
   ],
   "source": [
    "random.choice(nomes)"
   ]
  },
  {
   "cell_type": "markdown",
   "id": "9bff0afb",
   "metadata": {},
   "source": [
    "## Implementação"
   ]
  },
  {
   "cell_type": "code",
   "execution_count": 125,
   "id": "608ceef1",
   "metadata": {},
   "outputs": [
    {
     "data": {
      "text/plain": [
       "'Anel de Proteção'"
      ]
     },
     "execution_count": 125,
     "metadata": {},
     "output_type": "execute_result"
    }
   ],
   "source": [
    "# Primeira estratégia: 1 lista de nomes de itens\n",
    "\n",
    "nomes = [\n",
    "    \"Espada de Ferro\",\n",
    "    \"Escudo de Madeira\",\n",
    "    \"Poção de Cura\",\n",
    "    \"Arco Longo\",\n",
    "    \"Flecha de Aço\",\n",
    "    \"Elmo de Couro\",\n",
    "    \"Botas de Velocidade\",\n",
    "    \"Anel de Proteção\",\n",
    "    \"Capa da Invisibilidade\",\n",
    "    \"Machado de Guerra\"\n",
    "]\n",
    "\n",
    "random.choice(nomes)"
   ]
  },
  {
   "cell_type": "code",
   "execution_count": null,
   "id": "8bcbcc16",
   "metadata": {},
   "outputs": [],
   "source": [
    "def gerar_nome_item():\n",
    "    nomes = [\n",
    "    \"Espada de Ferro\",\n",
    "    \"Escudo de Madeira\",\n",
    "    \"Poção de Cura\",\n",
    "    \"Arco Longo\",\n",
    "    \"Flecha de Aço\",\n",
    "    \"Elmo de Couro\",\n",
    "    \"Botas de Velocidade\",\n",
    "    \"Anel de Proteção\",\n",
    "    \"Capa da Invisibilidade\",\n",
    "    \"Machado de Guerra\"\n",
    "    ]\n",
    "\n",
    "    return random.choice(nomes)"
   ]
  },
  {
   "cell_type": "code",
   "execution_count": 130,
   "id": "febcf261",
   "metadata": {},
   "outputs": [
    {
     "name": "stdout",
     "output_type": "stream",
     "text": [
      "Poção de Cura\n"
     ]
    }
   ],
   "source": [
    "nome_item = gerar_nome_item()\n",
    "\n",
    "print(nome_item)"
   ]
  },
  {
   "cell_type": "markdown",
   "id": "27371168",
   "metadata": {},
   "source": [
    "## Implementação 2"
   ]
  },
  {
   "cell_type": "code",
   "execution_count": null,
   "id": "ebdb8ebd",
   "metadata": {},
   "outputs": [
    {
     "name": "stdout",
     "output_type": "stream",
     "text": [
      "Arco Mágico perdida\n"
     ]
    }
   ],
   "source": [
    "# Usando 3 listas: nome, qualidade, complemento\n",
    "\n",
    "def gerar_nome_item():\n",
    "    nome = [\n",
    "        \"Espada\",\n",
    "        \"Escudo\",\n",
    "        \"Poção\",\n",
    "        \"Arco\",\n",
    "        \"Flecha\",\n",
    "        \"Elmo\",\n",
    "        \"Botas\",\n",
    "        \"Anel\",\n",
    "        \"Capa\",\n",
    "        \"Machado\"\n",
    "    ]\n",
    "\n",
    "    qualidade = [\n",
    "        \"Mágico\",\n",
    "        \"Antigo\",\n",
    "        \"Raro\",\n",
    "        \"Épico\",\n",
    "        \"Lendário\",\n",
    "        \"Resistente\",\n",
    "        \"Brilhante\",\n",
    "        \"Sombrio\",\n",
    "        \"Enferrujado\",\n",
    "        \"Poderoso\"\n",
    "    ]\n",
    "\n",
    "    complemento = [\n",
    "        \"de Mangur\",\n",
    "        \"do Vale\",\n",
    "        \"élfica\",\n",
    "        \"de Ezod\",\n",
    "        \"das Sombras\",\n",
    "        \"do Dragão\",\n",
    "        \"de Minos\",\n",
    "        \"do Guardião\",\n",
    "        \"perdida\",\n",
    "        \"ancestral\"\n",
    "    ]\n",
    "\n",
    "    nome_escolhido          = random.choice(nome)\n",
    "    qualidade_escolhida     = random.choice(qualidade)\n",
    "    complemento_escolhido   = random.choice(complemento)\n",
    "\n",
    "\n",
    "    nome_item = f'{nome_escolhido} {qualidade_escolhida} {complemento_escolhido}'\n",
    "\n",
    "    return nome_item\n"
   ]
  },
  {
   "cell_type": "code",
   "execution_count": 148,
   "id": "ade7598d",
   "metadata": {},
   "outputs": [
    {
     "data": {
      "text/plain": [
       "'Botas de Velocidade'"
      ]
     },
     "execution_count": 148,
     "metadata": {},
     "output_type": "execute_result"
    }
   ],
   "source": [
    "gerar_nome_item()"
   ]
  },
  {
   "cell_type": "markdown",
   "id": "24a41002",
   "metadata": {},
   "source": [
    "## Resolvendo a concordância de gênero dos nomes de ítens"
   ]
  },
  {
   "cell_type": "code",
   "execution_count": null,
   "id": "ff4a6907",
   "metadata": {},
   "outputs": [
    {
     "name": "stdout",
     "output_type": "stream",
     "text": [
      "Poção Lascada\n"
     ]
    }
   ],
   "source": [
    "substantivos = [\n",
    "    {\"nome\": \"Pedra\", \"gênero\": \"F\"},\n",
    "    {\"nome\": \"Cinturão\", \"gênero\": \"M\"},\n",
    "    {\"nome\": \"Espada\", \"gênero\": \"F\"},\n",
    "    {\"nome\": \"Arco\", \"gênero\": \"M\"},\n",
    "    {\"nome\": \"Poção\", \"gênero\": \"F\"},\n",
    "]\n",
    "\n",
    "adjetivos = [\n",
    "   {\"F\": \"Lascada\", \"M\": \"Lascado\"},\n",
    "   {\"F\": \"Épica\", \"M\": \"Épico\"},\n",
    "   {\"F\": \"Lendária\", \"M\": \"Lendário\"},\n",
    "   {\"F\": \"Resistente\", \"M\": \"Resistente\"},\n",
    "   {\"F\": \"Brilhante\", \"M\": \"Brilhante\"},\n",
    "]\n",
    "\n",
    "nome = random.choice(substantivos)\n",
    "adjetivo = random.choice(adjetivos)\n",
    "\n",
    "genero_subst = nome[\"gênero\"]\n",
    "\n",
    "print(nome['nome'], adjetivo[genero_subst])"
   ]
  },
  {
   "cell_type": "markdown",
   "id": "023b66fd",
   "metadata": {},
   "source": [
    "## Rolagem de dados\n",
    "\n"
   ]
  },
  {
   "cell_type": "code",
   "execution_count": 191,
   "id": "c20120c5",
   "metadata": {},
   "outputs": [
    {
     "name": "stdout",
     "output_type": "stream",
     "text": [
      "3\n"
     ]
    }
   ],
   "source": [
    "import random\n",
    "# Rolar um d6\n",
    "\n",
    "d6 = [1,2,3,4,5,6]\n",
    "\n",
    "numero = random.choice(d6) # rolamos o d6\n",
    "print(numero)\n"
   ]
  },
  {
   "cell_type": "markdown",
   "id": "f93bfb1c",
   "metadata": {},
   "source": [
    "## Classe Item\n",
    "\n",
    "Vamos usar a função `gerar_nome_item()` para inicialiar um objeto do tipo Item."
   ]
  },
  {
   "cell_type": "code",
   "execution_count": 196,
   "id": "6f5bb51c",
   "metadata": {},
   "outputs": [],
   "source": [
    "class Item() :\n",
    "    def __init__(self):\n",
    "        self.nome = self.gerar_nome_item()\n",
    "\n",
    "\n",
    "    def gerar_nome_item(self):\n",
    "        substantivos = [\n",
    "            {\"nome\": \"Pedra\", \"gênero\": \"F\"},\n",
    "            {\"nome\": \"Cinturão\", \"gênero\": \"M\"},\n",
    "            {\"nome\": \"Espada\", \"gênero\": \"F\"},\n",
    "            {\"nome\": \"Arco\", \"gênero\": \"M\"},\n",
    "            {\"nome\": \"Poção\", \"gênero\": \"F\"},\n",
    "        ]\n",
    "\n",
    "        adjetivos = [\n",
    "        {\"F\": \"Lascada\", \"M\": \"Lascado\"},\n",
    "        {\"F\": \"Épica\", \"M\": \"Épico\"},\n",
    "        {\"F\": \"Lendária\", \"M\": \"Lendário\"},\n",
    "        {\"F\": \"Resistente\", \"M\": \"Resistente\"},\n",
    "        {\"F\": \"Brilhante\", \"M\": \"Brilhante\"},\n",
    "        ]\n",
    "\n",
    "        nome = random.choice(substantivos)\n",
    "        adjetivo = random.choice(adjetivos)\n",
    "\n",
    "        genero_subst = nome[\"gênero\"]\n",
    "\n",
    "        return f'{nome['nome']} {adjetivo[genero_subst]}'\n",
    "\n",
    "\n",
    "    def __str__(self):\n",
    "        return self.nome"
   ]
  },
  {
   "cell_type": "code",
   "execution_count": 202,
   "id": "f15267d4",
   "metadata": {},
   "outputs": [
    {
     "name": "stdout",
     "output_type": "stream",
     "text": [
      "Cinturão Lascado\n",
      "Espada Lascada\n",
      "Poção Resistente\n"
     ]
    }
   ],
   "source": [
    "# Instanciar 3 itens\n",
    "\n",
    "i1 = Item()\n",
    "i2 = Item()\n",
    "i3 = Item()\n",
    "\n",
    "print(i1)\n",
    "print(i2)\n",
    "print(i3)"
   ]
  },
  {
   "cell_type": "code",
   "execution_count": null,
   "id": "ce52c374",
   "metadata": {},
   "outputs": [],
   "source": [
    "# Baú\n",
    "\n",
    "\n",
    "um_bau = Bau()\n",
    "\n",
    "print(um_bau.itens)\n",
    "\n",
    "## Saída esperada \n",
    "# (opcionalmente - porém recomendado\n",
    "# a quantidade de ítens deve ser variável)\n",
    "[\"Cinturão Lascado\", \"Espada Lascada\", \"Poção Resistente\"]\n"
   ]
  }
 ],
 "metadata": {
  "kernelspec": {
   "display_name": "Python 3",
   "language": "python",
   "name": "python3"
  },
  "language_info": {
   "codemirror_mode": {
    "name": "ipython",
    "version": 3
   },
   "file_extension": ".py",
   "mimetype": "text/x-python",
   "name": "python",
   "nbconvert_exporter": "python",
   "pygments_lexer": "ipython3",
   "version": "3.13.3"
  }
 },
 "nbformat": 4,
 "nbformat_minor": 5
}
