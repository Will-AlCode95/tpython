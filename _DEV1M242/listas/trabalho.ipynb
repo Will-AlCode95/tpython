{
 "cells": [
  {
   "cell_type": "markdown",
   "id": "ef27c1a5",
   "metadata": {},
   "source": [
    "## Trabalho: Gerador de nomes de itens"
   ]
  },
  {
   "cell_type": "markdown",
   "id": "b36a69a7",
   "metadata": {},
   "source": [
    "Usando listas, escreva uma `função` que retorna um nome aleatório para ser usado como nome de um item em um jogo do tipo `rogue`.\n",
    "\n",
    "Exemplo de uso:\n",
    "\n",
    "```python\n",
    "\n",
    "nome_do_item = gerar_nome_item()\n",
    "\n",
    "```\n"
   ]
  },
  {
   "cell_type": "markdown",
   "id": "42eb7766",
   "metadata": {},
   "source": [
    "## Estratégia de implementação\n",
    "\n",
    "**Possibilidade 1.** Você pode ter uma lista com vários nomes prontos e sortear um deles da lista para retornar como resposta\n",
    "\n",
    "**Possibilidade 2.** Você pode ter várias listas, cada uma contendo uma parte do nome (nome, qualidade, complemento) e gerar o nome assim:\n",
    "- sortear o nome da lista de nomes\n",
    "- sortear a qualidade da lista de qualidades\n",
    "- sortear o complemento da lista de complementos\n",
    "- e compor o nome a ser retornado a partir da concatenação de cada uma das três partes\n",
    "\n",
    "Exemplo de conteúdos para a lista\n",
    "\n",
    "- nome: Gema, Espada, Pedra, Rocha\n",
    "- qualidade: Lilás, Arcaica, Assassina Silenciosa\n",
    "- complemento: de Mangur, de Minos, perfeita, rota, de Ezod"
   ]
  },
  {
   "cell_type": "markdown",
   "id": "43fa25fb",
   "metadata": {},
   "source": [
    "### Dica\n",
    "\n",
    "Para fazer o sorteio, usar as funções do pacote `random`"
   ]
  },
  {
   "cell_type": "code",
   "execution_count": null,
   "id": "153355b3",
   "metadata": {},
   "outputs": [],
   "source": [
    "import random\n",
    "\n",
    "random.random()\n",
    "random.choice()\n"
   ]
  }
 ],
 "metadata": {
  "language_info": {
   "name": "python"
  }
 },
 "nbformat": 4,
 "nbformat_minor": 5
}
