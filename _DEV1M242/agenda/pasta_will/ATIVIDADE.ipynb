{
 "cells": [
  {
   "cell_type": "code",
   "execution_count": 1,
   "metadata": {},
   "outputs": [
    {
     "name": "stdout",
     "output_type": "stream",
     "text": [
      "Voce é menor de idade\n"
     ]
    }
   ],
   "source": [
    "idade = 10\n",
    "\n",
    "if idade > 18:\n",
    "    print(\"voce é maior de idade\")\n",
    "else:\n",
    "   print(\"Voce é menor de idade\")"
   ]
  },
  {
   "cell_type": "code",
   "execution_count": 1,
   "metadata": {},
   "outputs": [
    {
     "name": "stdout",
     "output_type": "stream",
     "text": [
      "ffssdffsdsdfsdfsdf\n"
     ]
    }
   ],
   "source": [
    "resposta = input(\"digite sua resposta\")\n",
    "print(resposta)"
   ]
  },
  {
   "cell_type": "code",
   "execution_count": null,
   "metadata": {},
   "outputs": [],
   "source": []
  },
  {
   "cell_type": "markdown",
   "metadata": {},
   "source": [
    "1 .assistente de leitura\n",
    "\n",
    "faça um programa que ajude um leitor a organizar suas leituras. O programa deveper permitir:\n",
    "\n",
    "cadastrar livros\n",
    "\n",
    "registrar a página onde leitor parou a leitura\n",
    "\n",
    "listar livros informando\n",
    "\n",
    "     a quantidade de páginas restantes para o final da leitura\n",
    "\n",
    "     o percentual restante para o final da leitura\n",
    "    \n",
    "     o percentual de pagina\n",
    "\n",
    "\n"
   ]
  },
  {
   "cell_type": "markdown",
   "metadata": {},
   "source": [
    "2. Assistente de cozinheiro\n",
    "\n",
    "o programa deve ajudar a controlar os produtos que uma cozinha deve ter disponiveis para a preparação de receitas\n",
    "\n",
    "\n",
    "o programa deve permitir:\n",
    "\n",
    "cadastrar receitas\n",
    "    ingredientes e quantidade de cada ingrediente\n",
    "    opcionalmente, modo de preparo\n",
    "\n",
    "cadastrar produtos\n",
    "\n",
    "     nome\n",
    "     quantidade\n",
    "     validade\n",
    "\n",
    "pesquisar receita listando resposta\n",
    "\n",
    "     ingredientes necessarios\n",
    "     ingredientes que estao disponiveis na cozinha\n",
    "     ingredientes que estão indisponiveis na cozinha"
   ]
  },
  {
   "cell_type": "code",
   "execution_count": 2,
   "metadata": {},
   "outputs": [],
   "source": [
    "def menu_principal(self):\n",
    "        \"\"\"Menu principal do programa\"\"\"\n",
    "        while True:\n",
    "            print(\"\\n\" + \"=\"*50)\n",
    "            print(\"🍳 ASSISTENTE DE COZINHEIRO\")\n",
    "            print(\"=\"*50)\n",
    "            print(\"1. Cadastrar receita\")\n",
    "            print(\"2. Cadastrar produto\")\n",
    "            print(\"3. Pesquisar receita\")\n",
    "            print(\"4. Listar receitas\")\n",
    "            print(\"5. Listar produtos\")\n",
    "            print(\"6. Sair\")\n",
    "            print(\"-\" * 50)"
   ]
  },
  {
   "cell_type": "markdown",
   "metadata": {},
   "source": [
    "ficha de personagem:\n",
    "\n",
    "o programa deve permitir:\n",
    "\n",
    "  cadastrar ficha de personagem\n",
    "  atualizar dados na ficha\n",
    "  imprimir na tela ou arquivo a ficha completa"
   ]
  }
 ],
 "metadata": {
  "kernelspec": {
   "display_name": "Python 3",
   "language": "python",
   "name": "python3"
  },
  "language_info": {
   "codemirror_mode": {
    "name": "ipython",
    "version": 3
   },
   "file_extension": ".py",
   "mimetype": "text/x-python",
   "name": "python",
   "nbconvert_exporter": "python",
   "pygments_lexer": "ipython3",
   "version": "3.13.2"
  }
 },
 "nbformat": 4,
 "nbformat_minor": 2
}
