{
 "cells": [
  {
   "cell_type": "code",
   "execution_count": 8,
   "id": "34a57807",
   "metadata": {},
   "outputs": [
    {
     "name": "stdout",
     "output_type": "stream",
     "text": [
      "recebi acao com parâmetro\n"
     ]
    }
   ],
   "source": [
    "argv = ['agenda.py','consultar','srx@email.com']\n",
    "comando = argv[1:]\n",
    "\n",
    "match comando:\n",
    "    case [acao]:\n",
    "        print(\"só recebi comando\")\n",
    "    case [acao, email]:\n",
    "        print(\"recebi acao com parâmetro\")\n"
   ]
  },
  {
   "cell_type": "code",
   "execution_count": null,
   "id": "9c18150d",
   "metadata": {},
   "outputs": [],
   "source": [
    "\n",
    "[prog, comando, email] = argv.split()\n",
    "\n",
    "match comando:\n",
    "        case \"ajuda\":\n",
    "            print(\"Chamar ajuda()\")\n",
    "        case \"listar\":\n",
    "            print(\"Chamar listar()\")\n",
    "        case _:\n",
    "            print(\"Comando inválido\")\n"
   ]
  }
 ],
 "metadata": {
  "kernelspec": {
   "display_name": "Python 3",
   "language": "python",
   "name": "python3"
  },
  "language_info": {
   "codemirror_mode": {
    "name": "ipython",
    "version": 3
   },
   "file_extension": ".py",
   "mimetype": "text/x-python",
   "name": "python",
   "nbconvert_exporter": "python",
   "pygments_lexer": "ipython3",
   "version": "3.13.3"
  }
 },
 "nbformat": 4,
 "nbformat_minor": 5
}
