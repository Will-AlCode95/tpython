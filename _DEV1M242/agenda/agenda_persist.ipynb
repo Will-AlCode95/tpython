{
 "cells": [
  {
   "cell_type": "code",
   "execution_count": null,
   "id": "019ec727",
   "metadata": {},
   "outputs": [],
   "source": [
    "import shelve\n",
    "\n",
    "meus_dados = shelve.open(\"dados.dat\", writeback=True)"
   ]
  },
  {
   "cell_type": "code",
   "execution_count": 18,
   "id": "838dbe57",
   "metadata": {},
   "outputs": [],
   "source": [
    "meus_dados['tarefas'] = []"
   ]
  },
  {
   "cell_type": "code",
   "execution_count": 19,
   "id": "58658f09",
   "metadata": {},
   "outputs": [],
   "source": [
    "meus_dados['compras'] = ['maçã','banana']"
   ]
  },
  {
   "cell_type": "code",
   "execution_count": 20,
   "id": "d2bafafc",
   "metadata": {},
   "outputs": [],
   "source": [
    "meus_dados['compras'].append(\"Café\")"
   ]
  },
  {
   "cell_type": "code",
   "execution_count": 21,
   "id": "4e7f0383",
   "metadata": {},
   "outputs": [],
   "source": [
    "meus_dados['compras'].append(\"Pão\")"
   ]
  },
  {
   "cell_type": "code",
   "execution_count": 22,
   "id": "66574460",
   "metadata": {},
   "outputs": [],
   "source": [
    "meus_dados.close()"
   ]
  },
  {
   "cell_type": "code",
   "execution_count": 1,
   "id": "49359f3d",
   "metadata": {},
   "outputs": [],
   "source": [
    "import dbm.sqlite3 as dbm\n",
    "\n",
    "minha_agenda = dbm.open('agenda.db','c')\n"
   ]
  },
  {
   "cell_type": "code",
   "execution_count": 5,
   "id": "1fcfbcb6",
   "metadata": {},
   "outputs": [],
   "source": [
    "minha_agenda[\"nome\"] = \"Gustavo\""
   ]
  },
  {
   "cell_type": "code",
   "execution_count": 6,
   "id": "2683eb8c",
   "metadata": {},
   "outputs": [],
   "source": [
    "minha_agenda[\"email\"] = \"lgmaciel@senacrs.com.br\""
   ]
  },
  {
   "cell_type": "code",
   "execution_count": 7,
   "id": "d0c6309d",
   "metadata": {},
   "outputs": [],
   "source": [
    "minha_agenda.close()"
   ]
  }
 ],
 "metadata": {
  "kernelspec": {
   "display_name": "Python 3",
   "language": "python",
   "name": "python3"
  },
  "language_info": {
   "codemirror_mode": {
    "name": "ipython",
    "version": 3
   },
   "file_extension": ".py",
   "mimetype": "text/x-python",
   "name": "python",
   "nbconvert_exporter": "python",
   "pygments_lexer": "ipython3",
   "version": "3.13.3"
  }
 },
 "nbformat": 4,
 "nbformat_minor": 5
}
