{
 "cells": [
  {
   "cell_type": "markdown",
   "id": "5b28bc0c",
   "metadata": {},
   "source": [
    "## Tradutor"
   ]
  },
  {
   "cell_type": "code",
   "execution_count": 3,
   "id": "8f25c69a",
   "metadata": {},
   "outputs": [],
   "source": [
    "dicionario = {\n",
    "    \"ausência\": \"absence\",\n",
    "    \"budista\": \"buddhist\",\n",
    "    \"mamute\": \"mammoth\",\n",
    "    \"rinoceronte\": \"rhinoceros\",\n",
    "    \"meteorologista\":\"meteorologist\",\n",
    "    \"filo \": \"phylum\",\n",
    "    \"falácia\": \"fallacy\",\n",
    "    \"destilação\": \"distillation\",\n",
    "    \"imobilizar\": \"immobilize\",\n",
    "    \"dálmata\" : \"dalmatian\"\n",
    "}"
   ]
  },
  {
   "cell_type": "code",
   "execution_count": null,
   "id": "c2edd640",
   "metadata": {},
   "outputs": [
    {
     "data": {
      "text/plain": [
       "'mammoth'"
      ]
     },
     "execution_count": 7,
     "metadata": {},
     "output_type": "execute_result"
    }
   ],
   "source": [
    "print(dicionario[\"mamute\"])"
   ]
  },
  {
   "cell_type": "code",
   "execution_count": 8,
   "id": "41bd3f03",
   "metadata": {},
   "outputs": [
    {
     "name": "stdout",
     "output_type": "stream",
     "text": [
      "fallacy\n"
     ]
    }
   ],
   "source": [
    "print(dicionario[\"falácia\"])"
   ]
  },
  {
   "cell_type": "code",
   "execution_count": null,
   "id": "b94df552",
   "metadata": {},
   "outputs": [],
   "source": []
  }
 ],
 "metadata": {
  "kernelspec": {
   "display_name": "Python 3",
   "language": "python",
   "name": "python3"
  },
  "language_info": {
   "codemirror_mode": {
    "name": "ipython",
    "version": 3
   },
   "file_extension": ".py",
   "mimetype": "text/x-python",
   "name": "python",
   "nbconvert_exporter": "python",
   "pygments_lexer": "ipython3",
   "version": "3.13.3"
  }
 },
 "nbformat": 4,
 "nbformat_minor": 5
}
