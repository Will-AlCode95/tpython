{
 "cells": [
  {
   "cell_type": "markdown",
   "id": "1917f17e",
   "metadata": {},
   "source": [
    "# Introdução a Mapas\n",
    "\n",
    "Mapas, também conhecidos como dicionários em Python, são estruturas de dados que armazenam pares de chave-valor. Eles são úteis para associar informações de forma eficiente e são amplamente utilizados em diversas aplicações."
   ]
  },
  {
   "cell_type": "markdown",
   "id": "45e73a99",
   "metadata": {},
   "source": [
    "## Criando um Mapa\n",
    "\n",
    "Para criar um mapa em Python, utilizamos chaves `{}` e definimos pares de chave-valor separados por dois pontos `:`."
   ]
  },
  {
   "cell_type": "code",
   "execution_count": null,
   "id": "ba6d16cc",
   "metadata": {},
   "outputs": [],
   "source": [
    "notas = [8.5, 9.0, 7.5]\n",
    "notas[2]"
   ]
  },
  {
   "cell_type": "code",
   "execution_count": null,
   "id": "01237673",
   "metadata": {},
   "outputs": [],
   "source": [
    "# Exemplo de criação de um mapa\n",
    "alunos = {\n",
    "    \"João\": 8.5,\n",
    "    \"Maria\": 9.0,\n",
    "    \"Pedro\": 7.5\n",
    "    }"
   ]
  },
  {
   "cell_type": "code",
   "execution_count": null,
   "id": "658711cf",
   "metadata": {},
   "outputs": [],
   "source": [
    "alunos[\"Pedro\"]"
   ]
  },
  {
   "cell_type": "markdown",
   "id": "c859a6b3",
   "metadata": {},
   "source": [
    "## Acessando Valores\n",
    "\n",
    "Os valores podem ser acessados utilizando suas respectivas chaves."
   ]
  },
  {
   "cell_type": "code",
   "execution_count": null,
   "id": "72148afe",
   "metadata": {},
   "outputs": [],
   "source": [
    "# Acessando a nota de João\n",
    "print(alunos[\"João\"])  # Saída: 8.5"
   ]
  },
  {
   "cell_type": "markdown",
   "id": "2573bc73",
   "metadata": {},
   "source": [
    "## Adicionando e Removendo Elementos\n",
    "\n",
    "Podemos adicionar novos pares de chave-valor ou remover elementos existentes."
   ]
  },
  {
   "cell_type": "code",
   "execution_count": null,
   "id": "e5dc4352",
   "metadata": {},
   "outputs": [],
   "source": [
    "# Adicionando um novo aluno\n",
    "alunos[\"Ana\"] = 8.0\n",
    "\n",
    "# Removendo um aluno\n",
    "del alunos[\"Pedro\"]\n",
    "\n",
    "print(alunos)  # Saída: {'João': 8.5, 'Maria': 9.0, 'Ana': 8.0}"
   ]
  },
  {
   "cell_type": "code",
   "execution_count": null,
   "id": "6fe0c499",
   "metadata": {},
   "outputs": [],
   "source": [
    "notas_por_aluno = {\n",
    "    \"Ana\": (5.5, 6.0, 8.0),\n",
    "    \"João\": (4.5, 7.0, 9.0),\n",
    "    \"Pedro\": (6.5, 7.5, 9.0)\n",
    "}\n",
    "\n",
    "notas_por_aluno"
   ]
  },
  {
   "cell_type": "code",
   "execution_count": null,
   "id": "5d565fa6",
   "metadata": {},
   "outputs": [],
   "source": [
    "notas_por_aluno[\"João\"][1]"
   ]
  },
  {
   "cell_type": "code",
   "execution_count": null,
   "id": "09a7c25e",
   "metadata": {},
   "outputs": [],
   "source": [
    "personagens = {\n",
    "    \"heroi\": {\n",
    "        \"xp\": 10,\n",
    "        \"ataque\": 30,\n",
    "        \"defesa\": 20,\n",
    "        \"mana\": 5\n",
    "    },\n",
    "\n",
    "    \"mago\": {\n",
    "        \"xp\": 30,\n",
    "        \"ataque\": 30,\n",
    "        \"defesa\": 10,\n",
    "        \"mana\": 40\n",
    "    }\n",
    "}"
   ]
  },
  {
   "cell_type": "code",
   "execution_count": null,
   "id": "1b40682a",
   "metadata": {},
   "outputs": [],
   "source": [
    "personagens[\"mago\"][\"mana\"]"
   ]
  },
  {
   "cell_type": "markdown",
   "id": "367e7956",
   "metadata": {},
   "source": [
    "## Iterando sobre um Mapa\n",
    "\n",
    "Podemos iterar sobre as chaves, valores ou ambos em um mapa."
   ]
  },
  {
   "cell_type": "code",
   "execution_count": null,
   "id": "61bd81fc",
   "metadata": {},
   "outputs": [],
   "source": [
    "nomes = [\"ana\", \"pedro\", \"sandro\"]\n",
    "\n",
    "for nome in nomes:\n",
    "    print(nome)"
   ]
  },
  {
   "cell_type": "markdown",
   "id": "35b18a03",
   "metadata": {},
   "source": [
    "### Desmanchando uma tupla"
   ]
  },
  {
   "cell_type": "code",
   "execution_count": null,
   "id": "68a3a2eb",
   "metadata": {},
   "outputs": [],
   "source": [
    "notas = (8, 9, 7.5)\n",
    "notas"
   ]
  },
  {
   "cell_type": "code",
   "execution_count": null,
   "id": "6f920a12",
   "metadata": {},
   "outputs": [],
   "source": [
    "nota1, nota2, nota3 = notas"
   ]
  },
  {
   "cell_type": "code",
   "execution_count": null,
   "id": "137601db",
   "metadata": {},
   "outputs": [],
   "source": [
    "nota2"
   ]
  },
  {
   "cell_type": "code",
   "execution_count": null,
   "id": "71c4d1b1",
   "metadata": {},
   "outputs": [],
   "source": [
    "for chave, valor in personagens.items():\n",
    "    print (f\"Classe: {chave}\\npropriedades: {valor}\\n\")"
   ]
  },
  {
   "cell_type": "code",
   "execution_count": null,
   "id": "0dbb1cba",
   "metadata": {},
   "outputs": [],
   "source": [
    "# Iterando sobre as chaves e valores\n",
    "for aluno, nota in alunos.items():\n",
    "    print(f\"{aluno}: {nota}\")"
   ]
  },
  {
   "cell_type": "markdown",
   "id": "0024aef3",
   "metadata": {},
   "source": [
    "### Exercício: tradutor de palavras"
   ]
  },
  {
   "cell_type": "code",
   "execution_count": null,
   "id": "bd03b263",
   "metadata": {},
   "outputs": [],
   "source": []
  },
  {
   "cell_type": "markdown",
   "id": "64092225",
   "metadata": {},
   "source": [
    "## Menu de opções"
   ]
  },
  {
   "cell_type": "code",
   "execution_count": null,
   "id": "260858c4",
   "metadata": {},
   "outputs": [],
   "source": [
    "### Model\n",
    "\n",
    "def novo():\n",
    "    print(\"Executando novo\")\n",
    "\n",
    "def fechar():\n",
    "    print(\"Executando fechar\")\n",
    "\n",
    "def listar():\n",
    "    print(\"Executando listar\")"
   ]
  },
  {
   "cell_type": "code",
   "execution_count": null,
   "id": "d2b08f57",
   "metadata": {},
   "outputs": [],
   "source": [
    "comandos = {\n",
    "    \"new\": novo,\n",
    "    \"close\": fechar,\n",
    "    \"list\": listar\n",
    "}"
   ]
  },
  {
   "cell_type": "code",
   "execution_count": null,
   "id": "fc7bb7cd",
   "metadata": {},
   "outputs": [],
   "source": [
    "comando = input(\"Comando: \")\n",
    "\n",
    "comandos[comando]()"
   ]
  },
  {
   "cell_type": "code",
   "execution_count": 57,
   "id": "70c6ce58",
   "metadata": {},
   "outputs": [
    {
     "data": {
      "text/html": [
       "oi <h3>oi,oi</h3>"
      ],
      "text/plain": [
       "<__main__.Oi at 0x20b4a532ba0>"
      ]
     },
     "execution_count": 57,
     "metadata": {},
     "output_type": "execute_result"
    }
   ],
   "source": [
    "class Oi():\n",
    "    def _repr_html_(self):\n",
    "        return \"oi <h3>oi,oi</h3>\"\n",
    "\n",
    "o = Oi()\n",
    "o"
   ]
  },
  {
   "cell_type": "code",
   "execution_count": 59,
   "id": "f0bf2854",
   "metadata": {},
   "outputs": [
    {
     "data": {
      "text/html": [
       "<h1>Oi, oi!</h1>"
      ],
      "text/plain": [
       "<IPython.core.display.HTML object>"
      ]
     },
     "metadata": {},
     "output_type": "display_data"
    }
   ],
   "source": [
    "from IPython.display import display, HTML\n",
    "display(HTML('<h1>Oi, oi!</h1>'))"
   ]
  }
 ],
 "metadata": {
  "kernelspec": {
   "display_name": "Python 3",
   "language": "python",
   "name": "python3"
  },
  "language_info": {
   "codemirror_mode": {
    "name": "ipython",
    "version": 3
   },
   "file_extension": ".py",
   "mimetype": "text/x-python",
   "name": "python",
   "nbconvert_exporter": "python",
   "pygments_lexer": "ipython3",
   "version": "3.13.3"
  }
 },
 "nbformat": 4,
 "nbformat_minor": 5
}
