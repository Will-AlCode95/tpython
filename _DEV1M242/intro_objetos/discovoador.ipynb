{
 "cells": [
  {
   "cell_type": "markdown",
   "id": "9b61dea7",
   "metadata": {},
   "source": [
    "## Disco voador"
   ]
  },
  {
   "cell_type": "code",
   "execution_count": null,
   "id": "801e1a11",
   "metadata": {},
   "outputs": [],
   "source": [
    "class DiscoVoador():\n",
    "    def __init__(self):\n",
    "        # uma propriedade do objeto\n",
    "        self.carga = 100 # carga dos lasers começa em 100\n",
    "        self.potencia = 10\n",
    "        self.celeiro = list()\n",
    "\n",
    "    def dispararLasers(self):\n",
    "        self.carga -= self.potencia\n",
    "        print(\"Piuuu!! \" + \"-\" * self.potencia + \">\" )\n",
    "    \n",
    "    def abduzir(self, vaca):\n",
    "        self.celeiro.append(vaca)\n",
    "    \n",
    "    def cutucar_vacas(self):\n",
    "        for vaca in self.celeiro:\n",
    "            vaca.mugir()\n"
   ]
  },
  {
   "cell_type": "markdown",
   "id": "8d5f657c",
   "metadata": {},
   "source": [
    "Usando o disco voador.\n",
    "\n",
    "1. Instanciamos a classe DiscoVoador para criar um objeto\n",
    "\n",
    "Aqui, criamos dois objetos do tipo DiscoVoador()"
   ]
  },
  {
   "cell_type": "code",
   "execution_count": null,
   "id": "b3b19fb7",
   "metadata": {},
   "outputs": [],
   "source": [
    "disco1 = DiscoVoador() # instanciação \n",
    "disco2 = DiscoVoador() # criando uma cópia a partir da classe Discovoador"
   ]
  },
  {
   "cell_type": "code",
   "execution_count": null,
   "id": "4a2325f3",
   "metadata": {},
   "outputs": [],
   "source": [
    "\n",
    "print(disco1.carga)\n",
    "print(disco2.carga)"
   ]
  },
  {
   "cell_type": "code",
   "execution_count": null,
   "id": "cc3b0461",
   "metadata": {},
   "outputs": [],
   "source": [
    "disco2.potencia = 20\n",
    "disco2.dispararLasers()\n",
    "disco2.dispararLasers()\n",
    "\n",
    "disco1.potencia = 10\n",
    "disco1.dispararLasers()"
   ]
  },
  {
   "cell_type": "markdown",
   "id": "efec33c0",
   "metadata": {},
   "source": [
    "## Abdução de vacas"
   ]
  },
  {
   "cell_type": "code",
   "execution_count": null,
   "id": "33e49a8e",
   "metadata": {},
   "outputs": [],
   "source": [
    "class Vaca():\n",
    "    def __init__(self, nome):\n",
    "        self.nome = nome\n",
    "    \n",
    "    def mugir(self):\n",
    "        print(f\"{self.nome}: Muuu!\")\n",
    "\n",
    "    def __str__(self):\n",
    "        return self.nome"
   ]
  },
  {
   "cell_type": "code",
   "execution_count": null,
   "id": "99f39c41",
   "metadata": {},
   "outputs": [],
   "source": [
    "vaca1 = Vaca(\"mimosa\")\n",
    "vaca2 = Vaca(\"boazinha\")"
   ]
  },
  {
   "cell_type": "code",
   "execution_count": null,
   "id": "f7cdeeac",
   "metadata": {},
   "outputs": [],
   "source": [
    "vaca2.mugir()"
   ]
  },
  {
   "cell_type": "markdown",
   "id": "17017570",
   "metadata": {},
   "source": [
    "### Abdução\n",
    "\n",
    "O processo de abdução é uma **colaboração entre objetos** do tipo DiscoVoador e Vaca.\n"
   ]
  },
  {
   "cell_type": "code",
   "execution_count": null,
   "id": "6e9afaee",
   "metadata": {},
   "outputs": [],
   "source": [
    "# Abdução usa 2 objetos de tipos diferentes\n",
    "\n",
    "disco1 = DiscoVoador()\n",
    "disco2 = DiscoVoador()\n",
    "\n",
    "vaca1 = Vaca(\"mimosa\")\n",
    "vaca2 = Vaca(\"boazinha\")\n",
    "\n",
    "disco1.abduzir(vaca2)\n",
    "disco1.abduzir(vaca1)\n",
    "# Dizemos que os objetos colaboraram para realizar a ação \n"
   ]
  },
  {
   "cell_type": "code",
   "execution_count": null,
   "id": "3447bf43",
   "metadata": {},
   "outputs": [],
   "source": [
    "disco1.cutucar_vacas()"
   ]
  },
  {
   "cell_type": "code",
   "execution_count": null,
   "id": "04fadde4",
   "metadata": {},
   "outputs": [],
   "source": [
    "disco1 = DiscoVoador()\n",
    "vaca1 = Vaca(\"mimosa\")\n",
    "vaca2 = Vaca(\"certeira\")\n",
    "vaca3 = Vaca(\"nojenta\")\n",
    "\n",
    "disco1.dispararLasers()\n",
    "disco1.potencia = 20\n",
    "disco1.dispararLasers()\n",
    "disco1.dispararLasers()\n",
    "disco1.abduzir(vaca2)\n",
    "disco1.dispararLasers()\n",
    "disco1.abduzir(vaca3)\n",
    "\n",
    "disco1.cutucar_vacas()\n",
    "\n",
    "disco1.potencia = 5\n",
    "disco1.dispararLasers()\n"
   ]
  },
  {
   "cell_type": "code",
   "execution_count": null,
   "id": "f0a492d0",
   "metadata": {},
   "outputs": [],
   "source": [
    "class Comandante():\n",
    "    def __init__(self):\n",
    "        self.frota = dict()\n",
    "        self.frota[\"disco1\"] = DiscoVoador()\n",
    "        self.frota[\"disco2\"] = DiscoVoador()\n",
    "    \n",
    "    def perseguir_sorrateiramente(self, vaca):\n",
    "        # escolhe um disco voador de sua frota\n",
    "        disco = self.frota[\"disco1\"]\n",
    "        # baixa a potência para não assustar as vacas\n",
    "        disco.potencia = 5\n",
    "        disco.dispararLasers()\n",
    "        disco.dispararLasers()\n",
    "        # aproveita que as vacas estão confusas para\n",
    "        # abduzi-las sem ser notado\n",
    "        disco.abduzir(vaca)\n",
    "          \n",
    "    def perseguir_ofensivamente(self, vaca):        \n",
    "        disco = self.frota[\"disco2\"]\n",
    "        # sobe a potência dos lasers para\n",
    "        # causar o máximo de medo\n",
    "        disco.potencia = 30\n",
    "        # dispara 1 vezes para assustar\n",
    "        disco.dispararLasers()\n",
    "        # sobe a potência para causar\n",
    "        # o máximo de terror!\n",
    "        disco.potencia = 40\n",
    "        # dispara 2 vezes\n",
    "        disco.dispararLasers()\n",
    "        disco.dispararLasers()\n",
    "        # supondo que as vacas\n",
    "        # não morreram de susto..\n",
    "        disco.abduzir(vaca)\n",
    "\n",
    "    def relatorio_da_frota(self):\n",
    "        for nome, disco in self.frota.items():\n",
    "            print(nome)\n",
    "            disco.cutucar_vacas()\n"
   ]
  },
  {
   "cell_type": "markdown",
   "id": "1a62680c",
   "metadata": {},
   "source": [
    "## Usando o Comandante e suas estratégias"
   ]
  },
  {
   "cell_type": "code",
   "execution_count": null,
   "id": "80a911a2",
   "metadata": {},
   "outputs": [],
   "source": [
    "zorg = Comandante()\n",
    "\n",
    "vaca1 = Vaca(\"mimosa\")\n",
    "vaca2 = Vaca(\"certeira\")\n",
    "vaca3 = Vaca(\"nojenta\")\n",
    "\n",
    "print('Sorrateiro')\n",
    "zorg.perseguir_sorrateiramente(vaca2)\n",
    "zorg.perseguir_sorrateiramente(vaca3)\n",
    "print()\n",
    "print('Ofensivo')\n",
    "zorg.perseguir_ofensivamente(vaca1)\n",
    "\n",
    "zorg.relatorio_da_frota()"
   ]
  },
  {
   "cell_type": "markdown",
   "id": "f6dfda1b",
   "metadata": {},
   "source": [
    "## Interface para sistema\n",
    "\n",
    "- criar vaca\n",
    "- criar comandante\n",
    "- dar ordens para comandante\n",
    "\n"
   ]
  },
  {
   "cell_type": "markdown",
   "id": "e2017d6f",
   "metadata": {},
   "source": [
    "#### Sintaxe dos comandos\n",
    "\n",
    "```\n",
    "criar_vaca <nome>\n",
    "Ex:\n",
    "    criar_vaca mimosa\n",
    "    criar_vaca brabinha\n",
    "\n",
    "comandantante perseguir <estrategia> <vaca>\n",
    "Ex:\n",
    "    comandante perseguir sorrateiramente mimosa\n",
    "    comandante perseguir ofensivamente brabinha\n",
    "\n",
    "```"
   ]
  },
  {
   "cell_type": "code",
   "execution_count": 87,
   "id": "7dbf4f56",
   "metadata": {},
   "outputs": [
    {
     "name": "stdout",
     "output_type": "stream",
     "text": [
      "Piuuu!! ----->\n",
      "Piuuu!! ----->\n",
      "disco1\n",
      "medrosa: Muuu!\n",
      "disco2\n",
      "disco1\n",
      "medrosa: Muuu!\n",
      "disco2\n",
      "Piuuu!! ------------------------------>\n",
      "Piuuu!! ---------------------------------------->\n",
      "Piuuu!! ---------------------------------------->\n",
      "disco1\n",
      "medrosa: Muuu!\n",
      "disco2\n",
      "mimosa: Muuu!\n",
      "disco1\n",
      "medrosa: Muuu!\n",
      "disco2\n",
      "mimosa: Muuu!\n"
     ]
    }
   ],
   "source": [
    "## loop de interpretação de comandos\n",
    "cena = dict() # <nome:str> : <vaca:Vaca>\n",
    "comandante = Comandante()\n",
    "\n",
    "comando = str()\n",
    "while comando != \"sair\":\n",
    "    # recebe comandos do usuário\n",
    "    # quebra o comando usando os espaços como separador de tokens\n",
    "    linha_de_comando = input(\"Comando: \").split(\" \")\n",
    "\n",
    "    # interpretar comando e executar\n",
    "    match linha_de_comando:\n",
    "        case [\"criar_vaca\", nome]:\n",
    "            # criamos uma vaca e adicionamos\n",
    "            # no dicionário da cena (chave é o nome da vaca)\n",
    "            cena[nome] = Vaca(nome) \n",
    "\n",
    "        case [\"comandante\", \"perseguir\", \"sorrateiramente\", vaca]:\n",
    "            # usamos o nome (variável vaca) para encontrar\n",
    "            # a vaca no mapa da cena (cena[vaca])\n",
    "            # e passar o objeto vaca para o método do comandante\n",
    "            comandante.perseguir_sorrateiramente(cena[vaca])\n",
    "        case [\"comandante\", \"perseguir\", \"ofensivamente\", vaca]:\n",
    "            comandante.perseguir_ofensivamente(cena[vaca])\n",
    "        case [\"comandante\", \"relatorio\"]:\n",
    "            comandante.relatorio_da_frota()\n",
    "        case [\"sair\"]:\n",
    "            comando = \"sair\"\n",
    "\n"
   ]
  }
 ],
 "metadata": {
  "kernelspec": {
   "display_name": "Python 3",
   "language": "python",
   "name": "python3"
  },
  "language_info": {
   "codemirror_mode": {
    "name": "ipython",
    "version": 3
   },
   "file_extension": ".py",
   "mimetype": "text/x-python",
   "name": "python",
   "nbconvert_exporter": "python",
   "pygments_lexer": "ipython3",
   "version": "3.13.3"
  }
 },
 "nbformat": 4,
 "nbformat_minor": 5
}
