{
 "cells": [
  {
   "cell_type": "markdown",
   "metadata": {},
   "source": [
    "# Operadores e variáveis\n",
    "\n",
    "Vamos começar a programar em Python escrevendo a parte de um programa que faz o cálculo dos pontos de um jogador em um jogo com temática espacial, com naves e robôs, estilo *\"shoot them up!\"*, daquele tipo que a gente atira em tudo que se mexer.\n",
    "\n",
    "Depois vamos aprender a usar variáveis para melhorar essses trechos do programa. Variáveis são uma forma de guardarmos informações na memória do computador para usarmos depois. \n",
    "\n",
    "Além disso, elas também permitem que a gente use elas ao invés de usarmos números ou outros dados que um programa manipula, com a vantagem de que as variáveis podem mudar de valor (podem *variar*) e números e outros dados costumam ser fixos. \n",
    "\n",
    "Por exemplo, o valor do placar de um jogo não pode ser um valor fixo, porque o placar vai mudando de valor ao longo do jogo. Para isso precisamos usar uma variável ao invés de um valor para programar um placar.\n",
    "\n",
    "Nos cálculos vamos usar as operações aritméticas básicas de adição `+`, subtração `-`, divisão `÷` e multiplicação `x`."
   ]
  },
  {
   "cell_type": "markdown",
   "metadata": {},
   "source": [
    "## Fazendo cálculos\n",
    "\n",
    "Em Python fazemos cálculos quase do mesmo modo como fazemos fora do computador, com papel e caneta.\n",
    "\n",
    "Veja no primeiro exemplo abaixo:\n",
    "\n",
    "> Para rodar o código Python abaixo (Windows ou Linux), clique na célula que contém o código e tecle <kbd>Ctrl+Enter</kbd> (no Mac, <kbd>Cmd+Return</kbd>). Faça isso com todos os exemplos de código que vierem. Assim você acompanha e experimenta a matéria ao mesmo tempo. "
   ]
  },
  {
   "cell_type": "code",
   "execution_count": null,
   "metadata": {},
   "outputs": [],
   "source": [
    "2 * 10"
   ]
  },
  {
   "cell_type": "markdown",
   "metadata": {},
   "source": [
    "Essa linha de código calculou o *produto* de `2` e `10`. É uma multiplicação. Só repare que a operação de multiplicação é representada por um *asterisco* e não pelo `xis`, ou o `.` que estamos acostumados a ver."
   ]
  },
  {
   "cell_type": "markdown",
   "metadata": {},
   "source": [
    "## Operadores aritméticos do Python\n",
    "\n",
    "Os operadores aritméticos do Python são:\n",
    "\n",
    "- `+` - soma (adição)\n",
    "- `-` - subtração \n",
    "- `/` - divisão (razão)\n",
    "- `*` - multiplicação (produto)"
   ]
  },
  {
   "cell_type": "markdown",
   "metadata": {},
   "source": [
    "## Calculando os pontos de uma jogada\n",
    "\n",
    "Vamos imaginar que você é um mago caçador de robôs feiticeiros espaciais. Para cada robô que você captura você acumula 0.05 pontos de experiência e 0.5 pontos de magia. "
   ]
  },
  {
   "cell_type": "markdown",
   "metadata": {},
   "source": [
    "<center>\n",
    "\n",
    "!['robô feiticeiro 1'](img/robof-64px.png)\n",
    "!['robô feiticeiro 2'](img/robof-64px.png)\n",
    "!['robô feiticeiro 3'](img/robof-64px.png)\n",
    "!['robô feiticeiro 4'](img/robof-64px.png)\n",
    "!['mago'](img/mago-64px.png)\n",
    "\n",
    "</center>"
   ]
  },
  {
   "cell_type": "markdown",
   "metadata": {},
   "source": [
    "Agora imagine que em uma jogada você capturou 4 robôs feiticeiros ao mesmo tempo. Quantos pontos de experiência e de magia você ganhou?"
   ]
  },
  {
   "cell_type": "markdown",
   "metadata": {},
   "source": [
    "\n",
    "Vamos ver no próximo exemplo como calcular isso com o Python.\n",
    "\n",
    "> As linhas que começam por um `#` não são executadas pelo Python. Elas são usadas para acrescentar comentários ao código."
   ]
  },
  {
   "cell_type": "code",
   "execution_count": null,
   "metadata": {},
   "outputs": [],
   "source": [
    "# Você capturou 4 robôs feiticeiros\n",
    "# e cada um deles vale 0.05 pontos de experiência\n",
    "# então\n",
    "\n",
    "4 * 0.05\n",
    "\n",
    "# Rode o código para ver quantos pontos \n",
    "# de experiência você ganhou na jogada"
   ]
  },
  {
   "cell_type": "markdown",
   "metadata": {},
   "source": [
    "Então, você ganhou `0.2` pontos de experiência na jogada.\n",
    "\n",
    "Para calcular quantos pontos de magia você ganhou, multiplique o número de robôs que você capturou pelo número de pontos de magia que você ganha por cada um deles (que é `0.5`)\n",
    "\n",
    "Na célula abaixo, escreva a operação que faz esse cálculo."
   ]
  },
  {
   "cell_type": "code",
   "execution_count": null,
   "metadata": {},
   "outputs": [],
   "source": []
  },
  {
   "cell_type": "markdown",
   "metadata": {},
   "source": [
    "O resultado deve ser `2.0` pontos de magia. Confere com a resposta da sua operação?"
   ]
  },
  {
   "cell_type": "markdown",
   "metadata": {},
   "source": [
    "## Um cálculo mais interessante\n",
    "\n",
    "Agora vamos calcular os seus pontos de experiência de um modo mais interessante. \n",
    "\n",
    "Digamos que os pontos de experiência que você ganha dependem do seu nível de experiência e que quanto maior o seu nível mais pontos de experiência você ganha por cada robô feiticeiro capturado.\n",
    "\n",
    "Para cada nível de experiência atingido você ganhará 1 ponto de experiência de bônus além dos pontos normalmente ganhos por cada robô capturado."
   ]
  },
  {
   "cell_type": "markdown",
   "metadata": {},
   "source": [
    "<center>\n",
    "\n",
    "!['XP: 20 Placar: ???????'](img/xp20-placar.png)\n",
    "\n",
    "!['robô feiticeiro 1'](img/robof-64px.png)\n",
    "!['robô feiticeiro 2'](img/robof-64px.png)\n",
    "!['robô feiticeiro 3'](img/robof-64px.png)\n",
    "!['robô feiticeiro 4'](img/robof-64px.png)\n",
    "!['mago'](img/mago-64px.png)\n",
    "\n",
    "</center>"
   ]
  },
  {
   "cell_type": "markdown",
   "metadata": {},
   "source": [
    "\n",
    "Digamos que seu nível de experiência é `20`. Então, se ao capturar 4 robôs você ganha `4 * 0.05` pontos de experiência, agora você vai ganhar esse valor e mais `4 * 20`, que são 20 pontos de experiência por cada robô capturado.\n",
    "\n",
    "O cálculo fica assim:"
   ]
  },
  {
   "cell_type": "code",
   "execution_count": null,
   "metadata": {},
   "outputs": [],
   "source": [
    "# Cálculo dos pontos de magia ganhos.\n",
    "# Você capturou 4 robôs feiticeiros\n",
    "# e cada um deles vale 0.5 pontos\n",
    "# de magia.\n",
    "\n",
    "4 * 0.5"
   ]
  },
  {
   "cell_type": "code",
   "execution_count": null,
   "metadata": {},
   "outputs": [],
   "source": [
    "# Cálculo do bônus por nível de experiência.\n",
    "# Supondo que seu nível atual é 20.\n",
    "# Então, são 20 pontos por cada robô capturado.\n",
    "\n",
    "4 * 20"
   ]
  },
  {
   "cell_type": "markdown",
   "metadata": {},
   "source": [
    "Finalizando a conta, agora segundo essa nova forma de calcular os pontos, os seus pontos por ter capturado os 4 robôs nessa jogada serão:"
   ]
  },
  {
   "cell_type": "code",
   "execution_count": null,
   "metadata": {},
   "outputs": [],
   "source": [
    "0.2 + 2.0 + 80"
   ]
  },
  {
   "cell_type": "markdown",
   "metadata": {},
   "source": [
    "<center>\n",
    "\n",
    "!['XP: 20 Placar: 80.2'](img/xp20-placar82.2.png)\n",
    "\n",
    "</center>"
   ]
  },
  {
   "cell_type": "markdown",
   "metadata": {},
   "source": [
    "O valor da soma dos pontos normais (`0.2`) mais os pontos de magia (`2.0`) mais o bônus por experiência (`80`) é o valor de pontos ganhos na jogada, que é igual a `82.2`. "
   ]
  },
  {
   "cell_type": "markdown",
   "metadata": {},
   "source": [
    "## Sequência de execução das operações matemáticas\n",
    "\n",
    "As operações matemáticas não são feitas todas ao mesmo tempo. Assim como nós, quando fazemos uma conta, o computador também vai fazendo uma conta de cada vez. A ordem que o computador decide seguir para ir fazendo as contas depende dos operadores aritméticos usados no cálculo. Isso é o que se chama de **precedência de operadores**.\n",
    "\n",
    "Alguns operadores têm precedência sobre outros. Isso quer dizer que as operações efetuadas por eles vão acontecer primeiro que as operações efetuadas por outros operadores.\n",
    "\n",
    "Por exemplo, vamos fazer a soma dos pontos toda de uma vez, só, em apenas uma linha de código."
   ]
  },
  {
   "cell_type": "code",
   "execution_count": null,
   "metadata": {},
   "outputs": [],
   "source": [
    "# Nesta linha de código temos \n",
    "# os 3 cálculos de pontuação\n",
    "# que fizemos antes, além\n",
    "# da soma de cada um dos resultados\n",
    "# que é o que nos dá os pontos na jogada\n",
    "\n",
    "# Pontos normais por robô capturado: 4 * 0.05\n",
    "# + Pontos de magia: 4 * 0.5\n",
    "# + Pontos de bônus por experiência: 4 * 20\n",
    "\n",
    "4 * 0.05 + 4 * 0.5 + 4 * 20"
   ]
  },
  {
   "cell_type": "markdown",
   "metadata": {},
   "source": [
    "Tivemos o mesmo resultado porque as operações foram executadas na mesma ordem que nós usamos antes, apesar de estarem todas em uma mesma linha. \n",
    "\n",
    "Isso aconteceu por causa da precedência que a operação de multiplicação tem sobre a operação de adição. O que isso quer dizer é que as operações de multiplicação são feitas antes das operações de adição. \n",
    "\n",
    "Vamos escrever novamente essa linha mas agora colocando entre parênteses as operações que são executadas primeiro. Assim vai ficar mais clara qual é a ordem de execução delas."
   ]
  },
  {
   "cell_type": "code",
   "execution_count": null,
   "metadata": {},
   "outputs": [],
   "source": [
    "(4 * 0.05) + (4 * 0.5) + (4 * 20)"
   ]
  },
  {
   "cell_type": "markdown",
   "metadata": {},
   "source": [
    "As operações que estão entre parênteses são executadas primeiro. Elas são executadas da esquerda para a direita.\n",
    "\n",
    "Depois que cada operação de multiplicação é executada, o resultado de cada uma é colocado no lugar de cada operação. Isso acontece na memória do computador, mas se fossemos escrever em código, ficaria assim:\n"
   ]
  },
  {
   "cell_type": "code",
   "execution_count": null,
   "metadata": {},
   "outputs": [],
   "source": [
    "0.2 + 2.0 + 80"
   ]
  },
  {
   "cell_type": "markdown",
   "metadata": {},
   "source": [
    "Essas somas agora são executadas, uma por vez, da esquerda para a direita. O resultado é o mesmo de antes: `82.2`."
   ]
  },
  {
   "cell_type": "markdown",
   "metadata": {},
   "source": [
    "## Alterando a precedência das operações\n",
    "\n",
    "Podemos usar os parênteses para alterar a sequência que as operações são executadas pelo Python. \n",
    "\n",
    "Por exemplo:"
   ]
  },
  {
   "cell_type": "code",
   "execution_count": null,
   "metadata": {},
   "outputs": [],
   "source": [
    "4 * (0.05 + 4) * 0.5 + 4 * 20"
   ]
  },
  {
   "cell_type": "markdown",
   "metadata": {},
   "source": [
    "Essa conta já não tem nada a ver com o cálculo do score do mago, mas vamos observar o resultado para aprender sobre precedência de operadores.\n",
    "\n",
    "O operador `+` não tem precedência sobre o `*`, mas como colocamos a operação de adição entre parênteses, ela foi executa primeiro mesmo assim. Só depois é que a multiplicação por `4` foi feita. Isso alterou o resultado para `88.1`, porque o cálculo que fizemos agora foi de fato diferente do anterior. \n",
    "\n",
    "Nesse caso, o que dissemos foi:\n",
    "\n",
    "> \"some 0.05 com 4, depois multiplique o resultado por 4 e depois multiplique esse novo resultado por 0.5 e depois multiplique 4 por 20 e agora some esses dois resultados\".\n",
    "\n"
   ]
  },
  {
   "cell_type": "markdown",
   "metadata": {},
   "source": [
    "A sequência é esta:"
   ]
  },
  {
   "cell_type": "code",
   "execution_count": null,
   "metadata": {},
   "outputs": [],
   "source": [
    "0.05+4"
   ]
  },
  {
   "cell_type": "code",
   "execution_count": null,
   "metadata": {},
   "outputs": [],
   "source": [
    "4.05 * 4"
   ]
  },
  {
   "cell_type": "code",
   "execution_count": null,
   "metadata": {},
   "outputs": [],
   "source": [
    "16.2 * 0.5"
   ]
  },
  {
   "cell_type": "code",
   "execution_count": null,
   "metadata": {},
   "outputs": [],
   "source": [
    "4 * 20"
   ]
  },
  {
   "cell_type": "code",
   "execution_count": null,
   "metadata": {},
   "outputs": [],
   "source": [
    "8.1 + 80"
   ]
  },
  {
   "cell_type": "markdown",
   "metadata": {},
   "source": [
    "Também podemos *aninhar* parênteses. Aninhar significa colocar um parêntesis por fora de outro (ou por dentro, dependendo de como você vê). Quando aninhamos parênteses as operações que estão nos parênteses mais internos são executadas primeiro. Assim:"
   ]
  },
  {
   "cell_type": "code",
   "execution_count": null,
   "metadata": {},
   "outputs": [],
   "source": [
    "(4 * (0.05 + 4) * 0.5 + 4) * 20"
   ]
  },
  {
   "cell_type": "markdown",
   "metadata": {},
   "source": [
    "Note no exemplo acima como a nova ordem de execução das operações alterou novamente o resultado final."
   ]
  },
  {
   "cell_type": "markdown",
   "metadata": {},
   "source": [
    "## Usando Variáveis\n",
    "\n",
    "Variáveis são uma forma de darmos nomes a valores que usamos em nossos programas para guardá-los e usá-los depois em nosso código.\n",
    "\n",
    "Para criar uma variável, escrevemos um nome para a variável e atribuímos um valor a ela usando o operador de atribuição do Python, que é o sinal `=`."
   ]
  },
  {
   "cell_type": "code",
   "execution_count": null,
   "metadata": {},
   "outputs": [],
   "source": [
    "velocidade = 500"
   ]
  },
  {
   "cell_type": "markdown",
   "metadata": {},
   "source": [
    "O código acima cria a variável chamada `velocidade` e atribui a ela o valor `500`."
   ]
  },
  {
   "cell_type": "markdown",
   "metadata": {},
   "source": [
    "### Variáveis no lugar de valores\n",
    "\n",
    "Quando temos uma variável podemos usar a variável em substituição ao valor que foi atribuído a ela. \n",
    "\n",
    "No caso do cálculo da pontuação do mago em uma jogada, podemos escrever uma variável para cada um dos valores usados para calcular os pontos e, depois, reescrever a fórmula que calcula a pontuação usando apenas as variáveis no lugar dos valores.\n",
    "\n",
    "Vamos ver como fazer isso criando uma variável de cada vez."
   ]
  },
  {
   "cell_type": "markdown",
   "metadata": {},
   "source": [
    "<center>\n",
    "\n",
    "!['xp: 20'](img/xp20.png)\n",
    "\n",
    "</center>\n",
    "\n",
    "Começamos pelo nível de experiência do jogador, pode ser guardado em uma variável."
   ]
  },
  {
   "cell_type": "code",
   "execution_count": null,
   "metadata": {},
   "outputs": [],
   "source": [
    "experiencia = 20"
   ]
  },
  {
   "cell_type": "markdown",
   "metadata": {},
   "source": [
    "Lemos essas linhas de código assim:\n",
    "\n",
    "- experiencia é igual a 20\n",
    "\n",
    "ou\n",
    "\n",
    "- experiencia contém 20\n",
    "\n",
    "ou, ainda\n",
    "\n",
    "- experiencia é 20\n",
    "\n",
    "\n",
    "A forma de falar o que está escrito no código vai variar conforme a situação. Algumas vezes vai fazer mais sentido dizer *é igual a* e outras vai fazer mais sentido dizer *contém* ou *é*...\n",
    "\n",
    "> Note que o nome da variável que usamos para escrever o código do programa não precisa ser igual ao nome que vamos mostrar para quem for usá-lo. Neste caso a variável chama `experiencia` mas no placar estamos chamando de `xp`. Quando chegarmos na programação de interfaces gráficas vamos ver melhor como a apresentação dos dados é independente do modo como os dados são armazenados na memória do computador."
   ]
  },
  {
   "cell_type": "markdown",
   "metadata": {},
   "source": [
    "<center>\n",
    "\n",
    "!['pts: 0.05 | magia: 0.5'](img/pts-005-magia-05.png)\n",
    "\n",
    "</center>"
   ]
  },
  {
   "cell_type": "markdown",
   "metadata": {},
   "source": [
    "Guardamos os pontos de experiência ganhos por capturar um robô e também os pontos de magia. Criamos uma variável para cada um."
   ]
  },
  {
   "cell_type": "code",
   "execution_count": null,
   "metadata": {},
   "outputs": [],
   "source": [
    "pts_experiencia = 0.05\n",
    "pts_magia = 0.5"
   ]
  },
  {
   "cell_type": "markdown",
   "metadata": {},
   "source": [
    "Precisamos guardar o número de robôs que capturamos na jogada. Esse valor não só faz parte do cálculo da pontuação como também é um dos que mais vai variar durante um jogo, porque a cada jogada o número de robôs capturados pode mudar. Ele pode ser 4, 2, zero, 1.000...\n",
    "\n",
    "<center>\n",
    "\n",
    "!['robô feiticeiro 1'](img/robof-64px.png)\n",
    "!['robô feiticeiro 2'](img/robof-64px.png)\n",
    "!['robô feiticeiro 3'](img/robof-64px.png)\n",
    "!['robô feiticeiro 4'](img/robof-64px.png)\n",
    "\n",
    "</center>"
   ]
  },
  {
   "cell_type": "code",
   "execution_count": null,
   "metadata": {},
   "outputs": [],
   "source": [
    "robos = 4"
   ]
  },
  {
   "cell_type": "markdown",
   "metadata": {},
   "source": [
    "Agora, podemos reescrever o cálculo dos pontos ganhos por capturar um robô usando as variáveis no lugar onde escreveríamos esses valores."
   ]
  },
  {
   "cell_type": "code",
   "execution_count": null,
   "metadata": {},
   "outputs": [],
   "source": [
    "(robos * pts_experiencia) + (robos * pts_magia) + (robos * experiencia)"
   ]
  },
  {
   "cell_type": "markdown",
   "metadata": {},
   "source": [
    "### Variáveis como rótulos\n",
    "\n",
    "No exemplo anterior pudemos ver como a a fórmula que calcula a pontuação ficou mais clara quando escrevemos ela usando variáveis, já que agora não vemos apenas números na linha de código. \n",
    "\n",
    "> O nome de uma variável pode ser usado para explicar (se for bem escolido) o que é que a variável contém.\n",
    "\n",
    "É como se o nome da variável fosse um rótulo que colocamos em uma caixa onde guardamos coisas. A caixa seria um espaço na memória do computador e a variável seria um rótulo que colocamos nessa caixa. Depois de colocar esse rótulo, podemos usar o rótulo para nos referirmos tanto à caixa quando ao conteúdo da caixa. \n",
    "\n",
    "Por exemplo, imagine uma caixa com robôs. Na caixa colamos um rótulo onde está escrito `Robôs Capturados`.\n",
    "\n",
    "<center>\n",
    "\n",
    "!['Robôs Capturados'](img/caixa_robos_capturados.png)\n",
    "\n",
    "</center>"
   ]
  },
  {
   "cell_type": "markdown",
   "metadata": {},
   "source": [
    "Em Python, podemos usar uma `lista` para representar essa caixa. Mais adiante vamos ver como trabalhar com listas. Por enquanto, vamos escrever essa linha de código apenas para ilustrar o que está sendo explicado.\n",
    "\n",
    "Execute o código abaixo para acompanhar os próximos exemplos."
   ]
  },
  {
   "cell_type": "code",
   "execution_count": null,
   "metadata": {},
   "outputs": [],
   "source": [
    "robos_capturados = ['robô 1', 'robô 2', 'robô 3', 'robô 4']"
   ]
  },
  {
   "cell_type": "markdown",
   "metadata": {},
   "source": [
    "\n",
    "Agora, se alguém nos disser \"pegue os robôs capturados\", podemos entender isso de duas formas: \n",
    "\n",
    "1. pegar a caixa 'Robôs Capturados'\n",
    "1. pegar o conteúdo da caixa 'Robôs Capturados'\n",
    "\n",
    "Se pegamos a caixa, levamos junto seu conteúdo. Se pegamos só o conteúdo, ora, então pegamos o conteúdo. Em qualquer caso, acabamos sempre pegando o conteúdo da caixa que, nesse caso, é o valor da variável. O que acontece é que às vezes podemos também pegar a caixa junto e acabamos com duas coisas em mãos: os robôs (conteúdo) e a caixa (a variável).\n",
    "\n",
    "Por exemplo, execute os dois trechos de código abaixo e veja como o efeito é o mesmo."
   ]
  },
  {
   "cell_type": "code",
   "execution_count": null,
   "metadata": {},
   "outputs": [],
   "source": [
    "# Assim estamos pegando \"só o conteúdo da caixa\"\n",
    "\n",
    "['robô 1', 'robô 2', 'robô 3', 'robô 4']"
   ]
  },
  {
   "cell_type": "code",
   "execution_count": null,
   "metadata": {},
   "outputs": [],
   "source": [
    "# Assim estamos pegando \"a caixa e seu conteúdo\"\n",
    "\n",
    "robos_capturados"
   ]
  },
  {
   "cell_type": "markdown",
   "metadata": {},
   "source": [
    "\n",
    "No caso da linha de código que escrevemos antes, quando escrevemos o nome de uma variável estamos pegando a caixa e também seu conteúdo. Quando o Python está fazendo os cálculos, ele está usando o nome que demos à caixa (o nome da variável) para pegar o conteúdo que está na caixa (na memória do computador) e fazer o cálculo usando só o conteúdo (o valor da variável).\n",
    "\n",
    "Por isso também dizemos que uma variável *guarda* ou *armazena* um valor. Na verdade, é o computador que guarda o valor em sua memória, mas como através da variável podemos executar essa operação de armazenamento e recuperação de dados, fica prático para nós, que programamos, pensar na própria variável como meio e local de armazenamento de dados.\n"
   ]
  },
  {
   "cell_type": "markdown",
   "metadata": {},
   "source": [
    "### Variáveis para acessar e modificar um valor na memória\n",
    "\n",
    "A segunda (e grande) vantagem é que também podemos usar o nome da variável para alterar o valor que está guardado na memória do computador. \n",
    "\n",
    "Por exemplo, se agora alterarmos o valor da variável `robos` para `2` (porque nessa jogada capturamos dois robôs e não 4 como da outra vez), então a mesma fórmula vai dar um resultado diferente."
   ]
  },
  {
   "cell_type": "markdown",
   "metadata": {},
   "source": [
    "<center>\n",
    "\n",
    "!['XP: 20 Placar: 41.1'](img/xp20-placar41.1.png)\n",
    "\n",
    "</center>"
   ]
  },
  {
   "cell_type": "code",
   "execution_count": null,
   "metadata": {},
   "outputs": [],
   "source": [
    "robos = 2\n",
    "(robos * pts_experiencia) + (robos * pts_magia) + (robos * experiencia)"
   ]
  },
  {
   "cell_type": "markdown",
   "metadata": {},
   "source": [
    "Mudamos o valor da variável `robos` para `2` e agora o resultado é `41.1`.\n",
    "\n",
    "Se mudamos o valor de `robos` para `5`, qual o resultado? Experimente alterando o valor da variável `robos` na célula acima e executando novamente o código."
   ]
  },
  {
   "cell_type": "markdown",
   "metadata": {},
   "source": [
    "## Fluxo de execução de um programa\n",
    "\n",
    "Note que no último exemplo temos duas linhas de código. Elas são executadas em sequência, de cima para baixo.\n",
    "\n",
    "A ordem da execução de cada linha de código é muito importante. Como queremos calcular a pontuação usando a mesma fórmula mas com um número de robôs diferente, precisamos *primeiro* mudar o número de robôs para *depois* calcular a pontuação. Se não fizermos assim, o cálculo da pontuação vai ser feito com um número de robôs desatualizado e vai sair errado.\n",
    "\n",
    "O código de um programa é executado sempre de cima para baixo. Chama-se isso de `fluxo de execução`. Porém, às vezes, podem haver desvios do fluxo de execução. Isso acontece quando redirecionamos o fluxo de execução para outro código, que é uma outra parte do programa. \n",
    "\n",
    "Os desvios de execução podem acontecer basicamente em três casos:\n",
    "\n",
    "- quando uma função é executada\n",
    "- quando uma linha de código que contém uma sentença condicional é encontrada\n",
    "- quando o programa executa um loop \n",
    "\n",
    "Vamos ver os três casos mais adiante."
   ]
  },
  {
   "cell_type": "markdown",
   "metadata": {},
   "source": [
    "## Usando uma função para mostrar o valor de uma variável\n",
    "\n",
    "Vamos falar agora em *impressão*, mas não se trata de impressão em papel. É um pouco estranho na primeira vez que ouvimos isso, mas em programação chamamos a operação que exibe um texto ou números na tela de `imprimir`.\n",
    "\n",
    "Também falamos `exibir` ou `mostrar`, que parecem fazer mais sentido para nós hoje, mas é que o termo `imprimir` vem de muito tempo atrás, quando a principal forma de os computadores exibirem os resultados das suas operações era através de impressoras que imprimiam eles em papel!\n",
    "\n",
    "Em Python, para *imprimir* o valor de uma variável, usamos uma função chamada `print()`. \n",
    "\n",
    "> Uma função é uma operação pré-programada: um trecho de código que podemos executar a qualquer momento.\n",
    "\n",
    "Por exemplo, imprimimos o valor da variável `experiencia` assim:"
   ]
  },
  {
   "cell_type": "code",
   "execution_count": null,
   "metadata": {},
   "outputs": [],
   "source": [
    "print(experiencia)"
   ]
  },
  {
   "cell_type": "markdown",
   "metadata": {},
   "source": [
    "A função `print()` escreve na tela o valor da variável.\n",
    "\n",
    "> Note que a variável é escrita entre os parênteses após o nome da função."
   ]
  },
  {
   "cell_type": "markdown",
   "metadata": {},
   "source": [
    "E se quiséssemos imprimir o resultado da pontuação? Uma forma de fazer isso é guardando esse resultado em uma variável para depois usar a função `print()` para imprimir o valor dessa variável."
   ]
  },
  {
   "cell_type": "code",
   "execution_count": null,
   "metadata": {},
   "outputs": [],
   "source": [
    "robos = 2\n",
    "resultado = (robos * pts_experiencia) + (robos * pts_magia) + (robos * experiencia)\n",
    "\n",
    "print(resultado)"
   ]
  },
  {
   "cell_type": "markdown",
   "metadata": {},
   "source": [
    "A função print também pode imprimir qualquer texto. Por exemplo, alguma mensagem que você queira exibir."
   ]
  },
  {
   "cell_type": "code",
   "execution_count": null,
   "metadata": {},
   "outputs": [],
   "source": [
    "print('Você ganhou pontos!')"
   ]
  },
  {
   "cell_type": "markdown",
   "metadata": {},
   "source": [
    "Podemos \"misturar\" nessa mensagem o valor da variável `resultado` e exibir uma mensagem com o número de pontos que o mago ganhou na jogada.\n",
    "\n",
    "Para isso, precisamos aprender a trabalhar com `Strings`, que são um tipo de dado diferente dos números com os quais trabalhamos até agora. Vamos ver isso a seguir.\n",
    "\n",
    "Por agora, execute a linha de código abaixo para ver como fica a mensagem completa."
   ]
  },
  {
   "cell_type": "code",
   "execution_count": null,
   "metadata": {},
   "outputs": [],
   "source": [
    "print(f'Você ganhou {resultado} pontos!')"
   ]
  },
  {
   "cell_type": "markdown",
   "metadata": {},
   "source": [
    "## Juntando tudo para nosso primeiro programa!\n",
    "\n",
    "O código abaixo é o resultado de todas as linhas de código que precisamos para calcular o resultado de uma jogada. Esse é nosso primeiro programa!"
   ]
  },
  {
   "cell_type": "code",
   "execution_count": null,
   "metadata": {},
   "outputs": [],
   "source": [
    "experiencia = 20\n",
    "pts_experiencia = 0.05\n",
    "pts_magia = 0.5\n",
    "robos = 2\n",
    "\n",
    "resultado = (robos * pts_experiencia) + (robos * pts_magia) + (robos * experiencia)\n",
    "\n",
    "print(f'Você ganhou {resultado} pontos!')"
   ]
  },
  {
   "cell_type": "markdown",
   "metadata": {},
   "source": [
    "Esse código pode ser salvo em um arquivo e executado em seu computador. Para isso você vai precisar de um editor de texto como o `Bloco de Notas` do Windows ou o `Notepad++` ou qualquer outro editor que trabalhe com \"texto simples\". \n",
    "\n",
    "\n",
    "Um arquivo de texto simples costuma ter a extensão .TXT e é diferente de um arquivo de texto como um .DOCX do Word ou um PDF. Qualquer programa de computador é escrito e salvo em um arquivo de texto simples. Esse é um texto sem formatações especiais (como fontes, cores, imagens, etc...) e contém apenas caracteres. Caracteres são qualquer símbolo que você pode digitar no teclado, inclusive números e outros caracteres especiais, como `$`, `*`, `@`, `%`, etc...\n",
    "\n",
    "Supondo que você esteja usando o Windows, abra o `Bloco de Notas` e copie o código da célula acima em um novo arquivo e salve ele como 'pontos_na_jogada.py'. Depois, abra o terminal do Windows, vá para o diretório onde você salvou o arquivo e execute ele com Python com a seguinte linha de comando:\n",
    "\n",
    "<pre>\n",
    "\n",
    "python pontos_na_jogada.py\n",
    "\n",
    "</pre>\n",
    "\n",
    "---"
   ]
  },
  {
   "cell_type": "markdown",
   "metadata": {},
   "source": [
    "<center>\n",
    "\n",
    "!['Fim da parte 01'](img/fim_parte_01.png)\n",
    "\n",
    "!['Continuar (S/n)?'](img/Continuar-Sn.png)\n",
    "\n",
    "</center>"
   ]
  }
 ],
 "metadata": {
  "kernelspec": {
   "display_name": "Python 3.10.5 64-bit (windows store)",
   "language": "python",
   "name": "python3"
  },
  "language_info": {
   "codemirror_mode": {
    "name": "ipython",
    "version": 3
   },
   "file_extension": ".py",
   "mimetype": "text/x-python",
   "name": "python",
   "nbconvert_exporter": "python",
   "pygments_lexer": "ipython3",
   "version": "3.10.5"
  },
  "orig_nbformat": 4,
  "vscode": {
   "interpreter": {
    "hash": "81d56cede9ef4caf6a61e146de670b37a2edead0ccb6294f4b93deebf2edb1a9"
   }
  }
 },
 "nbformat": 4,
 "nbformat_minor": 2
}
